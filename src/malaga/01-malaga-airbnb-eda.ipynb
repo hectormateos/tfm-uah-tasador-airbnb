{
 "cells": [
  {
   "cell_type": "markdown",
   "metadata": {},
   "source": [
    "__Máster en Data Science UAH__\n",
    "# Tasador de viviendas de alquiler vacacional en Málaga\n",
    "# Notebook #1 - Análisis exploratorio\n",
    "\n",
    "**Alumno:** Héctor Mateos Oblanca  \n",
    "**Tutor:** Daniel Rodríguez Pérez\n"
   ]
  },
  {
   "cell_type": "markdown",
   "metadata": {
    "toc": true
   },
   "source": [
    "<h1>Contenidos<span class=\"tocSkip\"></span></h1>\n",
    "<div class=\"toc\"><ul class=\"toc-item\"><li><span><a href=\"#Limpieza-y-preparación-de-datos\" data-toc-modified-id=\"Limpieza-y-preparación-de-datos-1\"><span class=\"toc-item-num\">1&nbsp;&nbsp;</span>Limpieza y preparación de datos</a></span><ul class=\"toc-item\"><li><span><a href=\"#Carga-de-datos\" data-toc-modified-id=\"Carga-de-datos-1.1\"><span class=\"toc-item-num\">1.1&nbsp;&nbsp;</span>Carga de datos</a></span><ul class=\"toc-item\"><li><span><a href=\"#Dataset-principal-Airbnb\" data-toc-modified-id=\"Dataset-principal-Airbnb-1.1.1\"><span class=\"toc-item-num\">1.1.1&nbsp;&nbsp;</span>Dataset principal Airbnb</a></span></li><li><span><a href=\"#Carga-de-mapas\" data-toc-modified-id=\"Carga-de-mapas-1.1.2\"><span class=\"toc-item-num\">1.1.2&nbsp;&nbsp;</span>Carga de mapas</a></span></li></ul></li><li><span><a href=\"#Descarte-inicial-de-características\" data-toc-modified-id=\"Descarte-inicial-de-características-1.2\"><span class=\"toc-item-num\">1.2&nbsp;&nbsp;</span>Descarte inicial de características</a></span></li><li><span><a href=\"#Armonización-de-barrios-y-distritos\" data-toc-modified-id=\"Armonización-de-barrios-y-distritos-1.3\"><span class=\"toc-item-num\">1.3&nbsp;&nbsp;</span>Armonización de barrios y distritos</a></span></li><li><span><a href=\"#Características-de-tipo-fecha\" data-toc-modified-id=\"Características-de-tipo-fecha-1.4\"><span class=\"toc-item-num\">1.4&nbsp;&nbsp;</span>Características de tipo fecha</a></span></li><li><span><a href=\"#Características-dinerarias\" data-toc-modified-id=\"Características-dinerarias-1.5\"><span class=\"toc-item-num\">1.5&nbsp;&nbsp;</span>Características dinerarias</a></span></li><li><span><a href=\"#Características-binarias\" data-toc-modified-id=\"Características-binarias-1.6\"><span class=\"toc-item-num\">1.6&nbsp;&nbsp;</span>Características binarias</a></span></li><li><span><a href=\"#Adaptación-de-equipamientos\" data-toc-modified-id=\"Adaptación-de-equipamientos-1.7\"><span class=\"toc-item-num\">1.7&nbsp;&nbsp;</span>Adaptación de equipamientos</a></span></li><li><span><a href=\"#Adaptación-de-las-verificaciones-del-anfitrión\" data-toc-modified-id=\"Adaptación-de-las-verificaciones-del-anfitrión-1.8\"><span class=\"toc-item-num\">1.8&nbsp;&nbsp;</span>Adaptación de las verificaciones del anfitrión</a></span></li><li><span><a href=\"#Adaptación-de-la-licencia\" data-toc-modified-id=\"Adaptación-de-la-licencia-1.9\"><span class=\"toc-item-num\">1.9&nbsp;&nbsp;</span>Adaptación de la licencia</a></span></li><li><span><a href=\"#Nuevas-características-calculadas\" data-toc-modified-id=\"Nuevas-características-calculadas-1.10\"><span class=\"toc-item-num\">1.10&nbsp;&nbsp;</span>Nuevas características calculadas</a></span><ul class=\"toc-item\"><li><span><a href=\"#Tiempo-de-actividad\" data-toc-modified-id=\"Tiempo-de-actividad-1.10.1\"><span class=\"toc-item-num\">1.10.1&nbsp;&nbsp;</span>Tiempo de actividad</a></span></li><li><span><a href=\"#Ingresos-por-estancia-y-nivel-de-ocupación\" data-toc-modified-id=\"Ingresos-por-estancia-y-nivel-de-ocupación-1.10.2\"><span class=\"toc-item-num\">1.10.2&nbsp;&nbsp;</span>Ingresos por estancia y nivel de ocupación</a></span></li></ul></li><li><span><a href=\"#Valores-extremos-(outliers)\" data-toc-modified-id=\"Valores-extremos-(outliers)-1.11\"><span class=\"toc-item-num\">1.11&nbsp;&nbsp;</span>Valores extremos (<em>outliers</em>)</a></span><ul class=\"toc-item\"><li><span><a href=\"#Tipo-de-propiedad\" data-toc-modified-id=\"Tipo-de-propiedad-1.11.1\"><span class=\"toc-item-num\">1.11.1&nbsp;&nbsp;</span>Tipo de propiedad</a></span></li><li><span><a href=\"#Viviendas-sin-reviews\" data-toc-modified-id=\"Viviendas-sin-reviews-1.11.2\"><span class=\"toc-item-num\">1.11.2&nbsp;&nbsp;</span>Viviendas sin reviews</a></span></li><li><span><a href=\"#Precios-por-huésped-extremos\" data-toc-modified-id=\"Precios-por-huésped-extremos-1.11.3\"><span class=\"toc-item-num\">1.11.3&nbsp;&nbsp;</span>Precios por huésped extremos</a></span></li><li><span><a href=\"#Número-mínimo-de-noches-extremo\" data-toc-modified-id=\"Número-mínimo-de-noches-extremo-1.11.4\"><span class=\"toc-item-num\">1.11.4&nbsp;&nbsp;</span>Número mínimo de noches extremo</a></span></li><li><span><a href=\"#Número-de-habitaciones-extremo\" data-toc-modified-id=\"Número-de-habitaciones-extremo-1.11.5\"><span class=\"toc-item-num\">1.11.5&nbsp;&nbsp;</span>Número de habitaciones extremo</a></span></li></ul></li></ul></li><li><span><a href=\"#Análisis-exploratorio\" data-toc-modified-id=\"Análisis-exploratorio-2\"><span class=\"toc-item-num\">2&nbsp;&nbsp;</span>Análisis exploratorio</a></span><ul class=\"toc-item\"><li><span><a href=\"#Distribución-del-precio\" data-toc-modified-id=\"Distribución-del-precio-2.1\"><span class=\"toc-item-num\">2.1&nbsp;&nbsp;</span>Distribución del precio</a></span></li><li><span><a href=\"#Resumen-del-resto-de-características\" data-toc-modified-id=\"Resumen-del-resto-de-características-2.2\"><span class=\"toc-item-num\">2.2&nbsp;&nbsp;</span>Resumen del resto de características</a></span></li><li><span><a href=\"#Correlaciones\" data-toc-modified-id=\"Correlaciones-2.3\"><span class=\"toc-item-num\">2.3&nbsp;&nbsp;</span>Correlaciones</a></span></li><li><span><a href=\"#Licencia\" data-toc-modified-id=\"Licencia-2.4\"><span class=\"toc-item-num\">2.4&nbsp;&nbsp;</span>Licencia</a></span></li><li><span><a href=\"#Tipos-de-propiedad-y-relación-con-precio-por-huésped\" data-toc-modified-id=\"Tipos-de-propiedad-y-relación-con-precio-por-huésped-2.5\"><span class=\"toc-item-num\">2.5&nbsp;&nbsp;</span>Tipos de propiedad y relación con precio por huésped</a></span></li><li><span><a href=\"#Tipos-de-habitaciones-y-relación-con-precio-por-huésped\" data-toc-modified-id=\"Tipos-de-habitaciones-y-relación-con-precio-por-huésped-2.6\"><span class=\"toc-item-num\">2.6&nbsp;&nbsp;</span>Tipos de habitaciones y relación con precio por huésped</a></span></li><li><span><a href=\"#Relación-entre-número-y-puntuación-de-las-reviews\" data-toc-modified-id=\"Relación-entre-número-y-puntuación-de-las-reviews-2.7\"><span class=\"toc-item-num\">2.7&nbsp;&nbsp;</span>Relación entre número y puntuación de las reviews</a></span></li><li><span><a href=\"#Relación-entre-política-de-cancelación-y-número-de-reviews-mensuales\" data-toc-modified-id=\"Relación-entre-política-de-cancelación-y-número-de-reviews-mensuales-2.8\"><span class=\"toc-item-num\">2.8&nbsp;&nbsp;</span>Relación entre política de cancelación y número de reviews mensuales</a></span></li><li><span><a href=\"#Relación-entre-número-mínimo-de-noches-y-número-de-reviews-mensuales\" data-toc-modified-id=\"Relación-entre-número-mínimo-de-noches-y-número-de-reviews-mensuales-2.9\"><span class=\"toc-item-num\">2.9&nbsp;&nbsp;</span>Relación entre número mínimo de noches y número de reviews mensuales</a></span></li><li><span><a href=\"#Relación-entre-tiempo-de-respuesta-y-número-de-reviews-mensuales\" data-toc-modified-id=\"Relación-entre-tiempo-de-respuesta-y-número-de-reviews-mensuales-2.10\"><span class=\"toc-item-num\">2.10&nbsp;&nbsp;</span>Relación entre tiempo de respuesta y número de reviews mensuales</a></span></li><li><span><a href=\"#Tasa-de-limpieza\" data-toc-modified-id=\"Tasa-de-limpieza-2.11\"><span class=\"toc-item-num\">2.11&nbsp;&nbsp;</span>Tasa de limpieza</a></span></li><li><span><a href=\"#Número-de-alojamientos-por-barrio\" data-toc-modified-id=\"Número-de-alojamientos-por-barrio-2.12\"><span class=\"toc-item-num\">2.12&nbsp;&nbsp;</span>Número de alojamientos por barrio</a></span></li><li><span><a href=\"#Relación-entre-precio-por-húesped-y-localización\" data-toc-modified-id=\"Relación-entre-precio-por-húesped-y-localización-2.13\"><span class=\"toc-item-num\">2.13&nbsp;&nbsp;</span>Relación entre precio por húesped y localización</a></span></li><li><span><a href=\"#Relación-entre-precio-por-huésped-y-notas-de-review\" data-toc-modified-id=\"Relación-entre-precio-por-huésped-y-notas-de-review-2.14\"><span class=\"toc-item-num\">2.14&nbsp;&nbsp;</span>Relación entre precio por huésped y notas de review</a></span></li><li><span><a href=\"#Relación-entre-precio-por-huésped-y-número-de-reviews-mensuales\" data-toc-modified-id=\"Relación-entre-precio-por-huésped-y-número-de-reviews-mensuales-2.15\"><span class=\"toc-item-num\">2.15&nbsp;&nbsp;</span>Relación entre precio por huésped y número de reviews mensuales</a></span></li><li><span><a href=\"#Review-de-localización\" data-toc-modified-id=\"Review-de-localización-2.16\"><span class=\"toc-item-num\">2.16&nbsp;&nbsp;</span>Review de localización</a></span></li><li><span><a href=\"#Distribución-del-precio-por-huésped\" data-toc-modified-id=\"Distribución-del-precio-por-huésped-2.17\"><span class=\"toc-item-num\">2.17&nbsp;&nbsp;</span>Distribución del precio por huésped</a></span></li><li><span><a href=\"#Relación-entre-habitaciones-y-baños\" data-toc-modified-id=\"Relación-entre-habitaciones-y-baños-2.18\"><span class=\"toc-item-num\">2.18&nbsp;&nbsp;</span>Relación entre habitaciones y baños</a></span></li><li><span><a href=\"#Relación-entre-ingresos-por-estancia-y-capacidad\" data-toc-modified-id=\"Relación-entre-ingresos-por-estancia-y-capacidad-2.19\"><span class=\"toc-item-num\">2.19&nbsp;&nbsp;</span>Relación entre ingresos por estancia y capacidad</a></span></li><li><span><a href=\"#Distribución-de-ingresos-por-estancia-según-el-distrito\" data-toc-modified-id=\"Distribución-de-ingresos-por-estancia-según-el-distrito-2.20\"><span class=\"toc-item-num\">2.20&nbsp;&nbsp;</span>Distribución de ingresos por estancia según el distrito</a></span></li><li><span><a href=\"#Relación-entre-barrio-y-precio-por-huésped\" data-toc-modified-id=\"Relación-entre-barrio-y-precio-por-huésped-2.21\"><span class=\"toc-item-num\">2.21&nbsp;&nbsp;</span>Relación entre barrio y precio por huésped</a></span></li><li><span><a href=\"#Relación-entre-precio-por-huésped-e-ingresos-por-estancia-media\" data-toc-modified-id=\"Relación-entre-precio-por-huésped-e-ingresos-por-estancia-media-2.22\"><span class=\"toc-item-num\">2.22&nbsp;&nbsp;</span>Relación entre precio por huésped e ingresos por estancia media</a></span></li><li><span><a href=\"#Equipamiento-de-la-vivienda\" data-toc-modified-id=\"Equipamiento-de-la-vivienda-2.23\"><span class=\"toc-item-num\">2.23&nbsp;&nbsp;</span>Equipamiento de la vivienda</a></span></li></ul></li><li><span><a href=\"#Exportación-dataset\" data-toc-modified-id=\"Exportación-dataset-3\"><span class=\"toc-item-num\">3&nbsp;&nbsp;</span>Exportación dataset</a></span></li></ul></div>"
   ]
  },
  {
   "cell_type": "markdown",
   "metadata": {},
   "source": [
    "## Limpieza y preparación de datos"
   ]
  },
  {
   "cell_type": "code",
   "execution_count": null,
   "metadata": {
    "scrolled": false
   },
   "outputs": [],
   "source": [
    "import math\n",
    "import json\n",
    "import pandas as pd\n",
    "import pandas_profiling\n",
    "import numpy as np\n",
    "import matplotlib.pyplot as plt\n",
    "import plotly.express as px\n",
    "import chart_studio.plotly as py\n",
    "import plotly.graph_objs as go\n",
    "import plotly.figure_factory as ff\n",
    "from plotly.colors import n_colors\n",
    "from plotly.offline import iplot, init_notebook_mode\n",
    "from plotly.subplots import make_subplots\n",
    "\n",
    "init_notebook_mode(connected=True)\n",
    "\n",
    "%run ../utils.py"
   ]
  },
  {
   "cell_type": "markdown",
   "metadata": {},
   "source": [
    "### Carga de datos"
   ]
  },
  {
   "cell_type": "markdown",
   "metadata": {},
   "source": [
    "#### Dataset principal Airbnb"
   ]
  },
  {
   "cell_type": "code",
   "execution_count": null,
   "metadata": {
    "scrolled": false
   },
   "outputs": [],
   "source": [
    "city = 'malaga'\n",
    "month = '201909'\n",
    "filename_in = '../data/' + city + '-' + month + '-listings.csv'\n",
    "filename_out = '../data/' + city + '-' + month + '-listings-CLEAN.csv'\n",
    "\n",
    "df = pd.read_csv(filename_in, low_memory=False)\n",
    "df.info()"
   ]
  },
  {
   "cell_type": "markdown",
   "metadata": {},
   "source": [
    "#### Carga de mapas"
   ]
  },
  {
   "cell_type": "code",
   "execution_count": null,
   "metadata": {
    "scrolled": false
   },
   "outputs": [],
   "source": [
    "with open('../geo/' + city + '.neighbourhoods.geojson') as f:\n",
    "    city_nb = fix_geojson(json.load(f))"
   ]
  },
  {
   "cell_type": "markdown",
   "metadata": {},
   "source": [
    "### Descarte inicial de características\n",
    "\n",
    "En el descarte inicial se desechan las características que se consideran menos útiles para el análisis exploratorio. Tras el análisis exploratorio habrá otro descarte de características que si bien habían sido interesantes para el exploratorio no lo serán para el modelado de la solución."
   ]
  },
  {
   "cell_type": "code",
   "execution_count": null,
   "metadata": {
    "scrolled": false
   },
   "outputs": [],
   "source": [
    "useless_cols = [\n",
    "    'id',\n",
    "    'listing_url',\n",
    "    'scrape_id',\n",
    "    'last_scraped',\n",
    "    'name',\n",
    "    'summary',\n",
    "    'space',\n",
    "    'description',\n",
    "    'experiences_offered',\n",
    "    'neighborhood_overview',\n",
    "    'notes',\n",
    "    'transit',\n",
    "    'access',\n",
    "    'interaction',\n",
    "    'house_rules',\n",
    "    'thumbnail_url',\n",
    "    'medium_url',\n",
    "    'picture_url',\n",
    "    'xl_picture_url',\n",
    "    'host_id',\n",
    "    'host_url',\n",
    "    'host_name',\n",
    "    'host_since',\n",
    "    'host_location',\n",
    "    'host_about',\n",
    "    'host_response_rate',\n",
    "    'host_acceptance_rate',\n",
    "    'host_is_superhost',\n",
    "    'host_thumbnail_url',\n",
    "    'host_picture_url',\n",
    "    'host_neighbourhood',\n",
    "    'host_listings_count',\n",
    "    'host_total_listings_count',\n",
    "    'host_has_profile_pic',\n",
    "    'host_identity_verified',\n",
    "    'host_verifications',\n",
    "    'street',\n",
    "    'neighbourhood',\n",
    "    'city',\n",
    "    'state',\n",
    "    'zipcode',\n",
    "    'market',\n",
    "    'smart_location',\n",
    "    'country_code',\n",
    "    'country',\n",
    "    'is_location_exact',\n",
    "    'square_feet',\n",
    "    'weekly_price',\n",
    "    'monthly_price',\n",
    "    'beds',\n",
    "    'bed_type',\n",
    "    'minimum_nights',\n",
    "    'maximum_nights',\n",
    "    'minimum_minimum_nights',\n",
    "    'maximum_minimum_nights',\n",
    "    'minimum_maximum_nights',\n",
    "    'maximum_maximum_nights',\n",
    "    'calendar_updated',\n",
    "    'has_availability',\n",
    "    'availability_30',\n",
    "    'availability_60',\n",
    "    'availability_90',\n",
    "    'availability_365',\n",
    "    'calendar_last_scraped',\n",
    "    'requires_license',\n",
    "    'jurisdiction_names',\n",
    "    'is_business_travel_ready',\n",
    "    'require_guest_profile_picture',\n",
    "    'require_guest_phone_verification',\n",
    "    'calculated_host_listings_count',\n",
    "    'calculated_host_listings_count_entire_homes',\n",
    "    'calculated_host_listings_count_private_rooms',\n",
    "    'calculated_host_listings_count_shared_rooms'\n",
    "]\n",
    "\n",
    "df.drop(useless_cols, axis=1, inplace=True)"
   ]
  },
  {
   "cell_type": "markdown",
   "metadata": {},
   "source": [
    "### Armonización de barrios y distritos\n",
    "\n",
    "Se unifican los nombres de los distritos de los distintos datasets para permitir join entre varios datasets cuando sea necesario.\n",
    "Para simplificar, se eliminan caracteres especiales como los acentos y se cambia el nombre de la columnas de barrio y distrito."
   ]
  },
  {
   "cell_type": "code",
   "execution_count": null,
   "metadata": {
    "scrolled": false
   },
   "outputs": [],
   "source": [
    "df['district'] = df['neighbourhood_group_cleansed'].apply(lambda x: remove_accents(str(x)))\n",
    "df.drop(['neighbourhood_group_cleansed'], axis=1, inplace=True)\n",
    "\n",
    "df['neighbourhood'] = df['neighbourhood_cleansed']\n",
    "df['neighbourhood'] = df['neighbourhood'].apply(lambda x: remove_accents(str.upper(x)))\n",
    "df.drop(['neighbourhood_cleansed'], axis=1, inplace=True)"
   ]
  },
  {
   "cell_type": "markdown",
   "metadata": {},
   "source": [
    "### Características de tipo fecha\n",
    "\n",
    "Se realiza la conversión de formato texto a formato fecha para facilitar posteriores operaciones."
   ]
  },
  {
   "cell_type": "code",
   "execution_count": null,
   "metadata": {
    "scrolled": false
   },
   "outputs": [],
   "source": [
    "df['first_review'] = pd.to_datetime(df['first_review'], format='%Y-%m-%d')\n",
    "df['last_review'] = pd.to_datetime(df['last_review'], format='%Y-%m-%d')"
   ]
  },
  {
   "cell_type": "markdown",
   "metadata": {},
   "source": [
    "### Características dinerarias\n",
    "\n",
    "Se realiza la conversión de formato texto en dólares a formato numérico en euros."
   ]
  },
  {
   "cell_type": "code",
   "execution_count": null,
   "metadata": {
    "scrolled": false
   },
   "outputs": [],
   "source": [
    "dollar_to_euro_rate = 0.9\n",
    "\n",
    "dollar_cols = [\n",
    "    'price',\n",
    "    'security_deposit', \n",
    "    'cleaning_fee', \n",
    "    'extra_people'\n",
    "]\n",
    "\n",
    "for col in dollar_cols:\n",
    "    if col in df.columns:\n",
    "        df[col].fillna('$0', inplace=True)\n",
    "        df[col] = df[col].apply(lambda x: clean_price_dollar(x))\n",
    "        df[col] = df[col].astype(float)\n",
    "        df[col] = df[col] * dollar_to_euro_rate\n",
    "        df[col] = df[col].round(2)"
   ]
  },
  {
   "cell_type": "markdown",
   "metadata": {},
   "source": [
    "### Características binarias\n",
    "\n",
    "Se realiza la conversión de formato texto (t para true, f para false) a formato numérico (0 para false, 1 para true)."
   ]
  },
  {
   "cell_type": "code",
   "execution_count": null,
   "metadata": {
    "scrolled": false
   },
   "outputs": [],
   "source": [
    "bin_cols = [\n",
    "    'host_is_superhost',\n",
    "    'host_identity_verified', \n",
    "    'is_location_exact',\n",
    "    'has_availability',\n",
    "    'instant_bookable'\n",
    "]\n",
    "    \n",
    "for col in bin_cols:\n",
    "    if col in df.columns:\n",
    "        df[col] = df[col].apply(lambda x: get_bin_value_by_char(x))\n",
    "        df[col] = df[col].astype(int)"
   ]
  },
  {
   "cell_type": "markdown",
   "metadata": {},
   "source": [
    "### Adaptación de equipamientos\n",
    "\n",
    "Se realiza la conversión de un formato no estructurado extrayendo del texto los tipos de equipamientos más relevantes que declara cada vivienda y creando una característica binaria para cada tipo de equipamiento. Esto además simplificará la gestión de variables categóricas en el modelado y facilitará en algunos aspectos la exploración."
   ]
  },
  {
   "cell_type": "code",
   "execution_count": null,
   "metadata": {
    "scrolled": false
   },
   "outputs": [],
   "source": [
    "df['amenities'] = df['amenities'].str.lower()\n",
    "amenities_dict = {}\n",
    "\n",
    "def collect_amenities(str):\n",
    "    str = str.replace('{', '').replace('}', '').replace('\\\"', '').strip()\n",
    "    word_list = str.split(\",\")\n",
    "    for w in word_list:\n",
    "        w = w.strip()\n",
    "        amenities_dict[w] = amenities_dict.get(w, 0) + 1\n",
    "    \n",
    "df['amenities'].apply(lambda x: collect_amenities(x))\n",
    "amenities_dict = sorted(amenities_dict.items(), key=lambda x: x[1], reverse=True)\n",
    "\n",
    "top_amenities = [\n",
    "    'wifi', \n",
    "    'essentials', \n",
    "    'kitchen', \n",
    "    'heating', \n",
    "    'washer', \n",
    "    'hangers', \n",
    "    'tv', \n",
    "    'hair dryer', \n",
    "    'iron', \n",
    "    'shampoo',\n",
    "    'laptop friendly workspace',\n",
    "    'air conditioning', \n",
    "    'hot water',\n",
    "    'elevator',\n",
    "    'refrigerator',\n",
    "    'dishes and silverware',\n",
    "    'microwave',\n",
    "    'bed linens',\n",
    "    'no stairs or steps to enter',\n",
    "    'coffee maker',\n",
    "    'cooking basics',\n",
    "    'family/kid friendly',\n",
    "    'long term stays allowed',\n",
    "    'first aid kit',\n",
    "    'oven',\n",
    "    'stove'\n",
    "]\n",
    "\n",
    "for v in top_amenities:\n",
    "    new_col_name = 'has_' + v.replace(' ', '_')\n",
    "    df[new_col_name] = df['amenities'].apply(lambda x: contains_bin_value(v, x))\n",
    "    df[new_col_name] = df[new_col_name].astype(int)\n",
    "    \n",
    "df.drop(['amenities'], axis=1, inplace=True)"
   ]
  },
  {
   "cell_type": "markdown",
   "metadata": {},
   "source": [
    "### Adaptación de las verificaciones del anfitrión\n",
    "\n",
    "Se realiza la conversión de un formato no estructurado extrayendo del texto los tipos de verificaciones más relevantes que declara cada anfitrión y creando una característica binaria para cada tipo de verificación. Esto además simplificará la gestión de variables categóricas en el modelado y facilitará en algunos aspectos la exploración."
   ]
  },
  {
   "cell_type": "code",
   "execution_count": null,
   "metadata": {
    "scrolled": false
   },
   "outputs": [],
   "source": [
    "\"\"\"\n",
    "df['host_verifications'] = df['host_verifications'].str.lower()\n",
    "hverif_dict = {}\n",
    "\n",
    "def collect_host_verifications(str):\n",
    "    str = str.replace('[', '').replace(']', '').replace('\\\"', '').replace('\\'', '').strip()\n",
    "    word_list = str.split(\",\")\n",
    "    for w in word_list: \n",
    "        w = w.strip()\n",
    "        hverif_dict[w] = hverif_dict.get(w, 0) + 1\n",
    "    \n",
    "df['host_verifications'].apply(lambda x: collect_host_verifications(x))\n",
    "hverif_dict = sorted(hverif_dict.items(), key=lambda x: x[1], reverse=True)\n",
    "\n",
    "top_verification_modes = [\n",
    "    'phone',\n",
    "    'email',\n",
    "    'government_id',\n",
    "    'reviews',\n",
    "    'jumio',\n",
    "    'offline_government_id',\n",
    "    'selfie',\n",
    "    'identity_manual',\n",
    "    'facebook',\n",
    "    'work_email',\n",
    "    'google'\n",
    "]\n",
    "\n",
    "for v in top_verification_modes:\n",
    "    new_col_name = 'host_verified_by_' + v.replace(' ', '_')\n",
    "    df[new_col_name] = df['host_verifications'].apply(lambda x: contains_bin_value(v, x))\n",
    "    df[new_col_name] = df[new_col_name].astype(int)\n",
    "    \n",
    "df.drop(['host_verifications'], axis=1, inplace=True)\n",
    "\"\"\""
   ]
  },
  {
   "cell_type": "markdown",
   "metadata": {},
   "source": [
    "### Adaptación de la licencia\n",
    "Lo relevante para el estudio es si tiene licencia o no, sin importar el identificador."
   ]
  },
  {
   "cell_type": "code",
   "execution_count": null,
   "metadata": {
    "scrolled": false
   },
   "outputs": [],
   "source": [
    "df['license'].fillna(0, inplace=True)\n",
    "df['has_license'] = df['license'].apply(lambda x: 1 if x != 0 else 0)\n",
    "df.drop(['license'], axis=1, inplace=True)"
   ]
  },
  {
   "cell_type": "markdown",
   "metadata": {},
   "source": [
    "### Nuevas características calculadas\n",
    "\n",
    "Se van a generar una serie de características nuevas para enriquecer el estudio descriptivo."
   ]
  },
  {
   "cell_type": "markdown",
   "metadata": {},
   "source": [
    "#### Tiempo de actividad\n",
    "\n",
    "Se trata del período que la vivienda lleva explotándose de forma efectiva y se estima como el tiempo transcurrido en meses desde la primera estancia hasta la última."
   ]
  },
  {
   "cell_type": "code",
   "execution_count": null,
   "metadata": {
    "scrolled": false
   },
   "outputs": [],
   "source": [
    "df['activity_months'] = (df['last_review'] - df['first_review']) / np.timedelta64(1, 'M')\n",
    "df['activity_months'].fillna(0, inplace=True)"
   ]
  },
  {
   "cell_type": "markdown",
   "metadata": {},
   "source": [
    "#### Ingresos por estancia y nivel de ocupación\n",
    "\n",
    "El precio por noche (_price_) no es un indicador definitivo de los ingresos por estancia porque el precio de una estancia viene determinada por otros factores adicionales:\n",
    "* Nº de huéspedes (algunos están incluidos en la tarifa price (_guests-included_) y el resto pagan una tarifa extra por noche (_extra-people_)\n",
    "* Tasas de limpieza (_cleaning-fee_)\n",
    "* Nº de noches\n",
    "* Nº de huéspedes (_accomodates_) como capacidad máxima porque beds no está informado en muchos de los casos\n",
    "\n",
    "Por ello también se puede calcular una variable que estime el coste total de una estancia media tomando como media de número de noches 3 y como número de huéspedes el valor medio entre el mínimo y el máximo de ocupantes de la vivienda."
   ]
  },
  {
   "cell_type": "code",
   "execution_count": null,
   "metadata": {
    "scrolled": false
   },
   "outputs": [],
   "source": [
    "df['cleaning_fee'].fillna(0, inplace=True)\n",
    "df['extra_people'].fillna(0, inplace=True)\n",
    "df['guests_included'].fillna(0, inplace=True)\n",
    "df['accommodates'].fillna(0, inplace=True)\n",
    "\n",
    "avg_days = 3\n",
    "\n",
    "df['income_med_occupation'] = df.apply(\n",
    "    lambda r: calculate_income_med_occupation(\n",
    "        r['price'], \n",
    "        r['cleaning_fee'], \n",
    "        r['accommodates'], \n",
    "        r['extra_people'], \n",
    "        r['guests_included'], \n",
    "        avg_days), \n",
    "    axis=1\n",
    ")\n",
    "\n",
    "df['price_med_occupation_per_accommodate'] = df.apply(\n",
    "    lambda r: calculate_price_med_occupation_per_accommodate(\n",
    "        r['price'], \n",
    "        r['cleaning_fee'], \n",
    "        r['accommodates'], \n",
    "        r['extra_people'], \n",
    "        r['guests_included'], \n",
    "        avg_days), \n",
    "    axis=1\n",
    ")"
   ]
  },
  {
   "cell_type": "markdown",
   "metadata": {},
   "source": [
    "### Valores extremos (_outliers_)"
   ]
  },
  {
   "cell_type": "markdown",
   "metadata": {},
   "source": [
    "#### Tipo de propiedad\n",
    "Se excluyen propiedades como los hoteles que ya de por sí son negocios hosteleros ya que el estudio pretende ceñirse a viviendas. "
   ]
  },
  {
   "cell_type": "code",
   "execution_count": null,
   "metadata": {
    "scrolled": false
   },
   "outputs": [],
   "source": [
    "outliers_idx = df[~df['property_type'].isin(['Apartment', 'House', 'Chalet', 'Condominium', 'Loft'])].index\n",
    "remove_outliers(df, outliers_idx, debug_col='property_type')"
   ]
  },
  {
   "cell_type": "code",
   "execution_count": null,
   "metadata": {},
   "outputs": [],
   "source": [
    "outliers_idx = df[df['room_type'].isin(['Hotel room'])].index\n",
    "remove_outliers(df, outliers_idx, debug_col='room_type')"
   ]
  },
  {
   "cell_type": "markdown",
   "metadata": {},
   "source": [
    "#### Viviendas sin reviews\n",
    "Las viviendas sin reviews, ya que no hay ningún indicio para saber si llevan o no tiempo publicadas, se excluyen del estudio."
   ]
  },
  {
   "cell_type": "code",
   "execution_count": null,
   "metadata": {
    "scrolled": false
   },
   "outputs": [],
   "source": [
    "df['number_of_reviews'].fillna(0, inplace=True)\n",
    "outliers_idx = df[df['number_of_reviews'] < 2]['number_of_reviews'].index.tolist()\n",
    "remove_outliers(df, outliers_idx, debug_col='number_of_reviews')"
   ]
  },
  {
   "cell_type": "markdown",
   "metadata": {},
   "source": [
    "#### Precios por huésped extremos\n",
    "\n",
    "Se aplica arbitrariamente una regla de rango intercuartil (IQR) para excluir precios extremos."
   ]
  },
  {
   "cell_type": "code",
   "execution_count": null,
   "metadata": {
    "scrolled": false
   },
   "outputs": [],
   "source": [
    "outliers_idx = get_outliers_iqr(df['price_med_occupation_per_accommodate'], 4.5)[0]\n",
    "remove_outliers(df, outliers_idx, debug_col='price_med_occupation_per_accommodate')"
   ]
  },
  {
   "cell_type": "markdown",
   "metadata": {},
   "source": [
    "#### Número mínimo de noches extremo\n",
    "Hay viviendas anunciadas cuyo mínimo de noches por estancia es tan elevado (meses, un año o varios años) que se puede deducir que su objetivo o su intención es un alquier de tipo residencial estable, no vacacional.\n",
    "\n",
    "Se excluyen de forma arbitraria los pisos cuyo número mínimo de noches supere las 70 por considerarlo un alquiler no vacacional."
   ]
  },
  {
   "cell_type": "code",
   "execution_count": null,
   "metadata": {
    "scrolled": false
   },
   "outputs": [],
   "source": [
    "outliers_idx = df[df['minimum_nights_avg_ntm'] > 70].index\n",
    "remove_outliers(df, outliers_idx, debug_col='minimum_nights_avg_ntm')"
   ]
  },
  {
   "cell_type": "markdown",
   "metadata": {},
   "source": [
    "#### Número de habitaciones extremo\n",
    "\n",
    "Se aplica arbitrariamente una regla de rango intercuartil (IQR) para excluir valores extremos."
   ]
  },
  {
   "cell_type": "code",
   "execution_count": null,
   "metadata": {
    "scrolled": false
   },
   "outputs": [],
   "source": [
    "df['bedrooms'].fillna(0, inplace=True)\n",
    "outliers_idx = get_outliers_iqr(df['bedrooms'], 25)[0]\n",
    "remove_outliers(df, outliers_idx, debug_col='bedrooms')"
   ]
  },
  {
   "cell_type": "markdown",
   "metadata": {},
   "source": [
    "## Análisis exploratorio\n",
    "\n",
    "Las características que a priori son las más importantes en el problema que se plantea son los precios y las reviews, por la relación directa en los ingresos del anfitrión y en los costes para el huésped.\n",
    "\n",
    "Las reviews constituyen la manera más cercana de estimar el nivel de ocupación de la vivienda a falta de datos explícitos al respecto como podrían ser las duraciones de las estancias o el número de huéspedes que definen cada estancia.\n",
    "\n",
    "En los siguientes apartados se analizan diferentes relaciones entre las múltiples características de los alojamientos, siendo especialmente relevantes los precios y las reviews como se comentaba."
   ]
  },
  {
   "cell_type": "markdown",
   "metadata": {},
   "source": [
    "### Distribución del precio\n",
    "\n",
    "El precio _price_ es la variable objetivo del estudio luego es conveniente ver de partida cómo está distribuido. \n",
    "\n",
    "Entre 20 y 100 euros por noche se concentra la gran mayoría de alojamientos."
   ]
  },
  {
   "cell_type": "code",
   "execution_count": null,
   "metadata": {},
   "outputs": [],
   "source": [
    "fig = px.histogram(df, x=\"price\", nbins=40)\n",
    "fig.show()"
   ]
  },
  {
   "cell_type": "code",
   "execution_count": null,
   "metadata": {},
   "outputs": [],
   "source": [
    "fig = ff.create_distplot([df['price']], ['price'], bin_size=[25])\n",
    "fig.show()"
   ]
  },
  {
   "cell_type": "markdown",
   "metadata": {},
   "source": [
    "### Resumen del resto de características"
   ]
  },
  {
   "cell_type": "code",
   "execution_count": null,
   "metadata": {},
   "outputs": [],
   "source": [
    "pandas_profiling.ProfileReport(df)"
   ]
  },
  {
   "cell_type": "markdown",
   "metadata": {},
   "source": [
    "### Correlaciones\n",
    "\n",
    "En los mapas de correlación se pueden obtener algunos indicios interesantes de relaciones entre características a parte de las relaciones evidentes por familias como por ejemplo la familia de los precios o la familia de las reviews."
   ]
  },
  {
   "cell_type": "code",
   "execution_count": null,
   "metadata": {
    "scrolled": false
   },
   "outputs": [],
   "source": [
    "def print_corr_map(df, height=None):\n",
    "    corrs = df.corr()\n",
    "    fig = go.Figure(\n",
    "        data=go.Heatmap(\n",
    "            z=corrs.values,\n",
    "            x=list(corrs.columns),\n",
    "            y=list(corrs.index),\n",
    "            showscale=True\n",
    "        )\n",
    "    )\n",
    "    \n",
    "    if height:\n",
    "        fig.update_layout(height=height)\n",
    "        \n",
    "    fig.show()"
   ]
  },
  {
   "cell_type": "code",
   "execution_count": null,
   "metadata": {},
   "outputs": [],
   "source": [
    "key_cols = [\n",
    "    'price',\n",
    "    'price_med_occupation_per_accommodate',\n",
    "    'income_med_occupation',\n",
    "    'review_scores_rating',\n",
    "    'reviews_per_month'\n",
    "]"
   ]
  },
  {
   "cell_type": "code",
   "execution_count": null,
   "metadata": {
    "scrolled": false
   },
   "outputs": [],
   "source": [
    "misc_cols = [\n",
    "    'activity_months',\n",
    "    'accommodates',\n",
    "    'bathrooms', \n",
    "    'bedrooms',\n",
    "    'cancellation_policy', \n",
    "    'cleaning_fee',\n",
    "    'district',\n",
    "    'extra_people',\n",
    "    'first_review',\n",
    "    'guests_included',\n",
    "    'instant_bookable',\n",
    "    'has_license',\n",
    "    'host_response_time',\n",
    "    'latitude',\n",
    "    'longitude',\n",
    "    'maximum_nights_avg_ntm',\n",
    "    'minimum_nights_avg_ntm',\n",
    "    'neighbourhood',\n",
    "    'number_of_reviews',\n",
    "    'number_of_reviews_ltm',\n",
    "    'property_type',\n",
    "    'room_type',\n",
    "    'security_deposit',\n",
    "    *key_cols\n",
    "]\n",
    "\n",
    "print_corr_map(df[misc_cols], height=900)"
   ]
  },
  {
   "cell_type": "code",
   "execution_count": null,
   "metadata": {
    "scrolled": false
   },
   "outputs": [],
   "source": [
    "review_cols = [\n",
    "    'activity_months',\n",
    "    'instant_bookable',\n",
    "    'review_scores_accuracy',\n",
    "    'review_scores_cleanliness',\n",
    "    'review_scores_checkin',\n",
    "    'review_scores_communication',\n",
    "    'review_scores_location',\n",
    "    'review_scores_value',\n",
    "    *key_cols\n",
    "]\n",
    "\n",
    "print_corr_map(df[review_cols])"
   ]
  },
  {
   "cell_type": "markdown",
   "metadata": {},
   "source": [
    "### Licencia\n",
    "\n",
    "La inmensa mayoría de las viviendas presentan la licencia turística."
   ]
  },
  {
   "cell_type": "code",
   "execution_count": null,
   "metadata": {
    "scrolled": false
   },
   "outputs": [],
   "source": [
    "df_by_license = df.groupby(['has_license'])['has_license'].count().to_frame('has_license_count')\n",
    "df_by_license.reset_index(inplace=True)\n",
    "\n",
    "fig32 = go.Figure(\n",
    "        go.Pie(\n",
    "            labels=['no_license', 'has_license'], \n",
    "            values=df_by_license['has_license_count']\n",
    "        )\n",
    ")\n",
    "\n",
    "fig32.update_traces(\n",
    "    textfont_size=20,\n",
    "    marker=dict(colors=['Orange', 'SteelBlue'])\n",
    ")\n",
    "\n",
    "fig32.update_layout(title='license')\n",
    "fig32.show()\n",
    "\n",
    "fig322 = go.Figure()\n",
    "for val in [0, 1]:\n",
    "    fig322.add_trace(\n",
    "        go.Violin(\n",
    "            x=df['has_license'][df['has_license'] == val],\n",
    "            y=df['reviews_per_month'][df['has_license'] == val],\n",
    "            name=val,                \n",
    "            meanline_visible=True,\n",
    "            line_color='Orange' if val == 0 else 'SteelBlue'\n",
    "        )\n",
    "    )\n",
    "\n",
    "fig322.update_layout(title='reviews_per_month x has_license', showlegend=False)\n",
    "fig322.show()"
   ]
  },
  {
   "cell_type": "markdown",
   "metadata": {},
   "source": [
    "### Tipos de propiedad y relación con precio por huésped\n",
    "\n",
    "Claro dominio de apartamentos. En el precio no hay diferencias notables."
   ]
  },
  {
   "cell_type": "code",
   "execution_count": null,
   "metadata": {
    "scrolled": false
   },
   "outputs": [],
   "source": [
    "df_by_property_type = df.groupby(['property_type'])['property_type'].count().to_frame('property_type_count')\n",
    "df_by_property_type.reset_index(inplace=True)\n",
    "property_types = np.sort(df_by_property_type['property_type'].unique())\n",
    "\n",
    "fig33 = go.Figure(go.Pie(\n",
    "    labels=df_by_property_type['property_type'], \n",
    "    values=df_by_property_type['property_type_count']\n",
    "))\n",
    "\n",
    "fig33.update_layout(title='property_type')\n",
    "fig33.update_traces(textfont_size=15)\n",
    "fig33.show()\n",
    "\n",
    "fig332 = go.Figure()\n",
    "for pt in property_types:\n",
    "    fig332.add_trace(\n",
    "        go.Violin(\n",
    "            x=df['property_type'][df['property_type'] == pt],\n",
    "            y=df['price_med_occupation_per_accommodate'][df['property_type'] == pt],\n",
    "            points='all',\n",
    "            name=pt,\n",
    "            box_visible=True,                \n",
    "            meanline_visible=True\n",
    "        )\n",
    "    )\n",
    "\n",
    "fig332.update_layout(title='price_med_occupation_per_accommodate')\n",
    "fig332.show()"
   ]
  },
  {
   "cell_type": "markdown",
   "metadata": {},
   "source": [
    "### Tipos de habitaciones y relación con precio por huésped\n",
    "\n",
    "El formato más habitual de alquiler vacacional es el piso completo, por encima de la habitación privada en piso compartido. Los precios van en sintonía con ello."
   ]
  },
  {
   "cell_type": "code",
   "execution_count": null,
   "metadata": {
    "scrolled": false
   },
   "outputs": [],
   "source": [
    "df_by_room_type = df.groupby(['room_type'])['room_type'].count().to_frame('room_type_count')\n",
    "df_by_room_type.reset_index(inplace=True)\n",
    "room_types = np.sort(df_by_room_type['room_type'].unique())\n",
    "\n",
    "fig34 = go.Figure(\n",
    "        go.Pie(\n",
    "            labels=df_by_room_type['room_type'], \n",
    "            values=df_by_room_type['room_type_count']\n",
    "        )\n",
    ")\n",
    "\n",
    "fig34.update_traces(textfont_size=20)\n",
    "fig34.update_layout(title='room_type')\n",
    "fig34.show()\n",
    "\n",
    "fig342 = go.Figure()\n",
    "for rt in room_types:\n",
    "    fig342.add_trace(\n",
    "        go.Violin(\n",
    "            x=df['room_type'][df['room_type'] == rt],\n",
    "            y=df['price_med_occupation_per_accommodate'][df['room_type'] == rt],\n",
    "            points='all',\n",
    "            name=rt,\n",
    "            box_visible=True,                \n",
    "            meanline_visible=True\n",
    "        )\n",
    "    )\n",
    "\n",
    "fig342.update_layout(title='price_med_occupation_per_accommodate')\n",
    "fig342.show()"
   ]
  },
  {
   "cell_type": "markdown",
   "metadata": {},
   "source": [
    "### Relación entre número y puntuación de las reviews\n",
    "\n",
    "Puede haber una cierta retroalimentación entre el número de reviews por mes y la nota en las mismas. Lo normal es que cuantas más y mejores reviews tenga una vivienda, más estancias genere."
   ]
  },
  {
   "cell_type": "code",
   "execution_count": null,
   "metadata": {},
   "outputs": [],
   "source": [
    "px.scatter(\n",
    "    df, \n",
    "    x='review_scores_rating', \n",
    "    y='reviews_per_month', \n",
    "    color='room_type'\n",
    ").show()"
   ]
  },
  {
   "cell_type": "markdown",
   "metadata": {},
   "source": [
    "### Relación entre política de cancelación y número de reviews mensuales\n",
    "\n",
    "No parece que haya un claro impacto del tipo de cancelación sobre el número de estancias. En general los anfitriones utilizan políticas de cancelación que tienen un mínimo de flexibilidad en el tiempo para no ahuyentar a potenciales huéspedes."
   ]
  },
  {
   "cell_type": "code",
   "execution_count": null,
   "metadata": {
    "scrolled": false
   },
   "outputs": [],
   "source": [
    "df_by_cancellation_policy = df.groupby(['cancellation_policy'])['cancellation_policy'].count().to_frame('cancellation_policy_count')\n",
    "df_by_cancellation_policy.reset_index(inplace=True)\n",
    "cancellation_policy_types = np.sort(df_by_cancellation_policy['cancellation_policy'].unique())\n",
    "\n",
    "fig36 = go.Figure(go.Pie(\n",
    "    labels=df_by_cancellation_policy['cancellation_policy'], \n",
    "    values=df_by_cancellation_policy['cancellation_policy_count']\n",
    "))\n",
    "\n",
    "fig36.update_layout(title='cancellation_policy')\n",
    "fig36.update_traces(textfont_size=15)\n",
    "fig36.show()\n",
    "\n",
    "fig362 = go.Figure()\n",
    "for cpt in cancellation_policy_types:\n",
    "    fig362.add_trace(\n",
    "        go.Violin(\n",
    "            x=df['cancellation_policy'][df['cancellation_policy'] == cpt],\n",
    "            y=df['reviews_per_month'][df['cancellation_policy'] == cpt],\n",
    "            name=cpt,\n",
    "            box_visible=True,                \n",
    "            meanline_visible=True\n",
    "        )\n",
    "    )\n",
    "\n",
    "fig362.update_layout(title='reviews_per_month', showlegend=False)\n",
    "fig362.show()"
   ]
  },
  {
   "cell_type": "markdown",
   "metadata": {},
   "source": [
    "### Relación entre número mínimo de noches y número de reviews mensuales\n",
    "\n",
    "El número mínimo de noches a la hora de reservar un alojamiento podría ser un factor limitante. Simplemente es un indicio porque no se conoce la duración de las estancias pero los alojamientos que menos limitan este aspecto tienen más estancias al mes."
   ]
  },
  {
   "cell_type": "code",
   "execution_count": null,
   "metadata": {
    "scrolled": false
   },
   "outputs": [],
   "source": [
    "px.scatter(\n",
    "    df, \n",
    "    x='minimum_nights_avg_ntm', \n",
    "    y='reviews_per_month'\n",
    ").show()"
   ]
  },
  {
   "cell_type": "markdown",
   "metadata": {},
   "source": [
    "### Relación entre tiempo de respuesta y número de reviews mensuales\n",
    "\n",
    "A mejor tasa de respuesta, más estancias. Es importante por tanto la agilidad de los anfitriones a la hora de tratar con los potenciales huéspedes."
   ]
  },
  {
   "cell_type": "code",
   "execution_count": null,
   "metadata": {
    "scrolled": false
   },
   "outputs": [],
   "source": [
    "df['host_response_time'].fillna('-unk-', inplace=True)\n",
    "df_by_response_time = df.groupby(['host_response_time'])['host_response_time'].count().to_frame('host_response_time_count')\n",
    "df_by_response_time.reset_index(inplace=True)\n",
    "response_time_types = np.sort(df_by_response_time['host_response_time'].unique())\n",
    "\n",
    "fig38 = go.Figure()\n",
    "for rtt in response_time_types:\n",
    "    fig38.add_trace(\n",
    "        go.Violin(\n",
    "            x=df['host_response_time'][df['host_response_time'] == rtt],\n",
    "            y=df['reviews_per_month'][df['host_response_time'] == rtt],\n",
    "            name=rtt,\n",
    "            box_visible=True,                \n",
    "            meanline_visible=True\n",
    "        )\n",
    "    )\n",
    "\n",
    "fig38.update_layout(title='reviews_per_month', showlegend=False)\n",
    "fig38.show()"
   ]
  },
  {
   "cell_type": "markdown",
   "metadata": {},
   "source": [
    "### Tasa de limpieza\n",
    "\n",
    "Una mayor tasa de limpieza se relaciona con viviendas que se alquilan de forma completa. Cuanto más alta es la tasa de limpieza, menos reservas al mes se obtienen posiblemente por tratarse de viviendas exclusivas."
   ]
  },
  {
   "cell_type": "code",
   "execution_count": null,
   "metadata": {},
   "outputs": [],
   "source": [
    "px.scatter(\n",
    "    df, \n",
    "    x='cleaning_fee', \n",
    "    y='reviews_per_month', \n",
    "    color='room_type'\n",
    ").show()"
   ]
  },
  {
   "cell_type": "code",
   "execution_count": null,
   "metadata": {
    "scrolled": false
   },
   "outputs": [],
   "source": [
    "px.scatter(\n",
    "    df, x='cleaning_fee', \n",
    "    y='income_med_occupation', \n",
    "    color='room_type'\n",
    ").show()"
   ]
  },
  {
   "cell_type": "markdown",
   "metadata": {},
   "source": [
    "### Número de alojamientos por barrio\n",
    "\n",
    "El centro tiene una concentración mucho más alta de alojamientos."
   ]
  },
  {
   "cell_type": "code",
   "execution_count": null,
   "metadata": {},
   "outputs": [],
   "source": [
    "df_by_nb = df.groupby(['neighbourhood'])['neighbourhood'].size().to_frame('count')\n",
    "df_by_nb.reset_index(inplace=True)\n",
    "\n",
    "fig310 = go.Figure(go.Choroplethmapbox(\n",
    "    geojson=city_nb,\n",
    "    locations=df_by_nb['neighbourhood'], \n",
    "    z=df_by_nb['count'],                   \n",
    "    colorscale='Blues',                                \n",
    "    marker_opacity=0.5, \n",
    "    marker_line_width=0.5\n",
    "))\n",
    "\n",
    "fig310.update_layout(\n",
    "    mapbox_style='carto-positron',\n",
    "    mapbox_zoom=11, \n",
    "    mapbox_center={'lat':df['latitude'].mean(), 'lon':df['longitude'].mean()},\n",
    "    margin={\"r\":0,\"t\":0,\"l\":0,\"b\":0}\n",
    ")\n",
    "\n",
    "fig310.show()"
   ]
  },
  {
   "cell_type": "markdown",
   "metadata": {},
   "source": [
    "### Relación entre precio por húesped y localización\n",
    "\n",
    "En general son los barrios del centro los que presentan precios más altos."
   ]
  },
  {
   "cell_type": "code",
   "execution_count": null,
   "metadata": {
    "scrolled": false
   },
   "outputs": [],
   "source": [
    "fig311 = go.Figure(\n",
    "    go.Scattermapbox(\n",
    "        lon=df['longitude'],\n",
    "        lat=df['latitude'],\n",
    "        mode='markers',\n",
    "        marker_color=df['price_med_occupation_per_accommodate'],\n",
    "        text=df['price_med_occupation_per_accommodate'],\n",
    "        marker=dict(\n",
    "            opacity=0.5, \n",
    "            colorscale='Blues',\n",
    "            cmin=df['price'].min(), \n",
    "            cmax=df['price'].max()\n",
    "        )\n",
    "    )\n",
    ")\n",
    "\n",
    "fig311.update_layout(\n",
    "    mapbox_style='carto-positron',\n",
    "    mapbox_zoom=11, \n",
    "    mapbox_center={'lat':df['latitude'].mean(), 'lon':df['longitude'].mean()},\n",
    "    margin={\"r\":0,\"t\":0,\"l\":0,\"b\":0}\n",
    ")\n",
    "\n",
    "fig311.show()"
   ]
  },
  {
   "cell_type": "markdown",
   "metadata": {},
   "source": [
    "### Relación entre precio por huésped y notas de review\n",
    "\n",
    "Las notas de las reviews no tienen una relación clara con el precio pagado por el huésped (ya sea alto o bajo)."
   ]
  },
  {
   "cell_type": "code",
   "execution_count": null,
   "metadata": {
    "scrolled": false
   },
   "outputs": [],
   "source": [
    "px.scatter(\n",
    "    df, \n",
    "    x='review_scores_rating',\n",
    "    y='price_med_occupation_per_accommodate'\n",
    ").show()"
   ]
  },
  {
   "cell_type": "markdown",
   "metadata": {},
   "source": [
    "### Relación entre precio por huésped y número de reviews mensuales\n",
    "\n",
    "Los alojamientos con precios por noche en el rango entre 70 y 130 euros son los que consiguen más estancias."
   ]
  },
  {
   "cell_type": "code",
   "execution_count": null,
   "metadata": {
    "scrolled": false
   },
   "outputs": [],
   "source": [
    "px.scatter(\n",
    "    df,\n",
    "    x='price_med_occupation_per_accommodate',\n",
    "    y='reviews_per_month',\n",
    "    marginal_x='box', \n",
    "    trendline='ols'\n",
    ").show()"
   ]
  },
  {
   "cell_type": "markdown",
   "metadata": {},
   "source": [
    "### Review de localización\n",
    "La valoración de localización es un aspecto muy abierto e interesante. Se puede considerar una localización en función de si está bien conectada con el resto de la ciudad, o de si está próxima a puntos de interés, o de si está bien ubicado con respecto a cualquier intención concreta ya sea de tipo turístico, laboral, familiar, etc. que cualquier huésped puede tener.\n",
    "\n",
    "En el mapa se muestra que efectivamente los barrios del centro tienen una gran calificación en este aspecto pero tampoco hay diferencias muy grandes con barrios un poco más lejanos al centro."
   ]
  },
  {
   "cell_type": "code",
   "execution_count": null,
   "metadata": {
    "scrolled": false
   },
   "outputs": [],
   "source": [
    "df_by_nb = df.groupby(['neighbourhood'])['review_scores_location'].mean().to_frame('review_scores_location_avg')\n",
    "df_by_nb.reset_index(inplace=True)\n",
    "\n",
    "fig3142 = go.Figure(go.Choroplethmapbox(\n",
    "    geojson=city_nb,\n",
    "    locations=df_by_nb['neighbourhood'], \n",
    "    z=df_by_nb['review_scores_location_avg'],                   \n",
    "    colorscale='Blues',                                \n",
    "    marker_opacity=0.5, \n",
    "    marker_line_width=0.5\n",
    "))\n",
    "\n",
    "fig3142.update_layout(\n",
    "    mapbox_style='carto-positron',\n",
    "    mapbox_zoom=11, \n",
    "    mapbox_center={'lat':df['latitude'].mean(), 'lon':df['longitude'].mean()},\n",
    "    margin={\"r\":0,\"t\":0,\"l\":0,\"b\":0}\n",
    ")\n",
    "\n",
    "fig3142.show()"
   ]
  },
  {
   "cell_type": "markdown",
   "metadata": {},
   "source": [
    "### Distribución del precio por huésped\n",
    "\n",
    "Entre 40 y 150 euros por noche es el rango más habitual de precio que paga un huésped por noche por una estancia de duración media."
   ]
  },
  {
   "cell_type": "code",
   "execution_count": null,
   "metadata": {},
   "outputs": [],
   "source": [
    "fig = px.histogram(df, x='price_med_occupation_per_accommodate', nbins=40)\n",
    "fig.show()"
   ]
  },
  {
   "cell_type": "code",
   "execution_count": null,
   "metadata": {
    "scrolled": false
   },
   "outputs": [],
   "source": [
    "fig = go.Figure()\n",
    "\n",
    "fig.add_trace(go.Histogram(\n",
    "    x=df['price_med_occupation_per_accommodate'],\n",
    "    name='price_med_occupation_per_accommodate',\n",
    "    marker_color='#EB89B5'))\n",
    "\n",
    "fig.add_trace(go.Histogram(\n",
    "    x=df['price'],\n",
    "    name='price',\n",
    "    marker_color='#330C73'))\n",
    "\n",
    "\"\"\"\n",
    "fig.add_trace(go.Histogram(\n",
    "    x=df['income_med_occupation'],\n",
    "    name='income_med_occupation',\n",
    "    marker_color='green'))\n",
    "\"\"\"\n",
    "\n",
    "fig.update_layout(barmode='stack')\n",
    "fig.update_traces(opacity=0.75)\n",
    "fig.show()"
   ]
  },
  {
   "cell_type": "markdown",
   "metadata": {},
   "source": [
    "### Relación entre habitaciones y baños\n",
    "\n",
    "Dominan con claridad los alojamientos con pocas estancias, en concreto con un baño y un dormitorio."
   ]
  },
  {
   "cell_type": "code",
   "execution_count": null,
   "metadata": {
    "scrolled": false
   },
   "outputs": [],
   "source": [
    "plt.figure(figsize=(16, 8))\n",
    "plt.hist(df['bedrooms'])\n",
    "plt.gca().set(title='BEDROOMS', ylabel='COUNT');"
   ]
  },
  {
   "cell_type": "code",
   "execution_count": null,
   "metadata": {
    "scrolled": false
   },
   "outputs": [],
   "source": [
    "df['bathrooms'].fillna(0, inplace=True)\n",
    "plt.figure(figsize=(16, 8))\n",
    "plt.hist(df['bathrooms'])\n",
    "plt.gca().set(title='BATHROOMS', ylabel='COUNT');"
   ]
  },
  {
   "cell_type": "code",
   "execution_count": null,
   "metadata": {
    "scrolled": false
   },
   "outputs": [],
   "source": [
    "df_bb = df.groupby(['bedrooms', 'bathrooms'])[['bedrooms', 'bathrooms']].size().to_frame('cnt')\n",
    "df_bb.reset_index(inplace=True)\n",
    "fig316 = px.scatter(df_bb, x='bedrooms', y='bathrooms', size='cnt')\n",
    "fig316.show()"
   ]
  },
  {
   "cell_type": "markdown",
   "metadata": {},
   "source": [
    "### Relación entre ingresos por estancia y capacidad\n"
   ]
  },
  {
   "cell_type": "code",
   "execution_count": null,
   "metadata": {
    "scrolled": false
   },
   "outputs": [],
   "source": [
    "df_by_price_per_bed = df.groupby(['neighbourhood', 'accommodates'])['income_med_occupation'].mean().to_frame('income_med_occupation_avg')\n",
    "df_by_price_per_bed.reset_index(inplace=True)\n",
    "\n",
    "px.line(\n",
    "    df_by_price_per_bed, \n",
    "    x='accommodates', \n",
    "    y='income_med_occupation_avg',\n",
    "    color='neighbourhood'\n",
    ").show()"
   ]
  },
  {
   "cell_type": "markdown",
   "metadata": {},
   "source": [
    "### Distribución de ingresos por estancia según el distrito\n",
    "\n",
    "Estas distribuciones refuerzan el análisis del apartado anterior."
   ]
  },
  {
   "cell_type": "code",
   "execution_count": null,
   "metadata": {
    "scrolled": false
   },
   "outputs": [],
   "source": [
    "nbs = np.sort(df['neighbourhood'].unique())[::-1]      \n",
    "    \n",
    "fig318 = go.Figure()\n",
    "for d in nbs:\n",
    "    fig318.add_trace(go.Violin(\n",
    "        x=df[df['neighbourhood'] == d]['income_med_occupation'].values,\n",
    "        name='  ' + d + '  '\n",
    "    ))\n",
    "\n",
    "fig318.update_traces(\n",
    "    orientation='h', \n",
    "    side='positive', \n",
    "    width=3, \n",
    "    points=False\n",
    ")\n",
    "\n",
    "fig318.update_layout(\n",
    "    height=900,\n",
    "    xaxis_showgrid=False, \n",
    "    xaxis_zeroline=False, \n",
    "    showlegend=False\n",
    ")\n",
    "\n",
    "fig318.show()"
   ]
  },
  {
   "cell_type": "code",
   "execution_count": null,
   "metadata": {
    "scrolled": false
   },
   "outputs": [],
   "source": [
    "px.scatter(\n",
    "    df,\n",
    "    x='accommodates',\n",
    "    y='income_med_occupation', \n",
    "    trendline='ols'\n",
    ").show()"
   ]
  },
  {
   "cell_type": "markdown",
   "metadata": {},
   "source": [
    "### Relación entre barrio y precio por huésped\n",
    "\n",
    "En general son los barrios más céntricos los que mayor precio por huésped tienen aunque hay diversas excepciones.\n",
    "\n",
    "Los barrios del sur en general presentan precios más bajos que el resto."
   ]
  },
  {
   "cell_type": "code",
   "execution_count": null,
   "metadata": {
    "scrolled": false
   },
   "outputs": [],
   "source": [
    "df_by_nb = df.groupby(['neighbourhood'])['price_med_occupation_per_accommodate'].mean().to_frame('price_med_occupation_per_accommodate_avg')\n",
    "df_by_nb.reset_index(inplace=True)\n",
    "\n",
    "fig320 = go.Figure(go.Choroplethmapbox(\n",
    "    geojson=city_nb,\n",
    "    locations=df_by_nb['neighbourhood'], \n",
    "    z=df_by_nb['price_med_occupation_per_accommodate_avg'],                   \n",
    "    colorscale='Blues',                                \n",
    "    marker_opacity=0.5, \n",
    "    marker_line_width=0.5\n",
    "))\n",
    "\n",
    "fig320.update_layout(\n",
    "    mapbox_style='carto-positron',\n",
    "    mapbox_zoom=11, \n",
    "    mapbox_center={'lat':df['latitude'].mean(), 'lon':df['longitude'].mean()},\n",
    "    margin={\"r\":0,\"t\":0,\"l\":0,\"b\":0}\n",
    ")\n",
    "\n",
    "fig320.show()"
   ]
  },
  {
   "cell_type": "markdown",
   "metadata": {},
   "source": [
    "### Relación entre precio por huésped e ingresos por estancia media\n",
    "\n",
    "A lo largo del estudio se han presentado diferentes relaciones entre características donde participan el precio medio por noche y huésped y los ingresos por estancia media. Ambas variables están basadas en la característica precio y por ello tienen una clara relación con ella así que es probable que en la fase de modelado se descarte el uso de alguna de ellas."
   ]
  },
  {
   "cell_type": "code",
   "execution_count": null,
   "metadata": {},
   "outputs": [],
   "source": [
    "fig = go.Figure()\n",
    "\n",
    "fig.add_trace(go.Histogram(\n",
    "    x=df['price_med_occupation_per_accommodate'],\n",
    "    name='price_med_occupation_per_accommodate',\n",
    "    marker_color='#EB89B5'))\n",
    "\n",
    "fig.add_trace(go.Histogram(\n",
    "    x=df['income_med_occupation'],\n",
    "    name='income_med_occupation',\n",
    "    marker_color='blue'))\n",
    "\n",
    "fig.update_layout(barmode='stack')\n",
    "fig.update_traces(opacity=0.75)\n",
    "fig.show()"
   ]
  },
  {
   "cell_type": "code",
   "execution_count": null,
   "metadata": {
    "scrolled": false
   },
   "outputs": [],
   "source": [
    "fig323 = go.Figure()\n",
    "for x in ['price_med_occupation_per_accommodate', 'income_med_occupation']:\n",
    "    fig323.add_trace(go.Scatter(\n",
    "        x=df['price'], \n",
    "        y=df[x], \n",
    "        mode='markers',\n",
    "        name=x,\n",
    "        marker=dict(color=('blue' if x != 'price_med_occupation_per_accommodate' else '#EB89B5'))\n",
    "    ))\n",
    "    fig323.update_traces(marker=dict(opacity=0.5))\n",
    "\n",
    "fig323.show()"
   ]
  },
  {
   "cell_type": "markdown",
   "metadata": {},
   "source": [
    "### Equipamiento de la vivienda\n",
    "\n",
    "En las correlaciones simplemente se observa más afinidad entre objetos que normalmente se ubican en una cocina como el frigorífico, el microondas, la cafetera o la vajilla.\n",
    "\n",
    "No existe un impacto claro entre alguna comodidad concreta y las reviews en número o nota de las estancias.\n",
    "\n",
    "Curiosamente el aire acondicionado es una de las comodidades que menos destaca, bien es cierto que es algo que tiene importancia sobre todo de forma estacional y según para qué tipo de huéspedes."
   ]
  },
  {
   "cell_type": "code",
   "execution_count": null,
   "metadata": {
    "scrolled": false
   },
   "outputs": [],
   "source": [
    "reviews_cols = [\n",
    "    'reviews_per_month', \n",
    "    'review_scores_rating'\n",
    "]\n",
    "\n",
    "amenities_cols = [\n",
    "    'has_air_conditioning',\n",
    "    'has_bed_linens',\n",
    "    'has_coffee_maker',\n",
    "    'has_cooking_basics',\n",
    "    'has_dishes_and_silverware',\n",
    "    'has_elevator',\n",
    "    'has_essentials', \n",
    "    'has_family/kid_friendly',\n",
    "    'has_first_aid_kit',\n",
    "    'has_hair_dryer',\n",
    "    'has_hangers',\n",
    "    'has_heating',\n",
    "    'has_hot_water',\n",
    "    'has_iron',\n",
    "    'has_kitchen',\n",
    "    'has_laptop_friendly_workspace',\n",
    "    'has_microwave',\n",
    "    'has_no_stairs_or_steps_to_enter',\n",
    "    'has_oven',\n",
    "    'has_refrigerator',\n",
    "    'has_shampoo',\n",
    "    'has_stove',\n",
    "    'has_tv',\n",
    "    'has_washer',\n",
    "    'has_wifi'\n",
    "]\n",
    "\n",
    "print_corr_map(df[[*amenities_cols, *reviews_cols]], height=900)\n",
    "\n",
    "\"\"\"\n",
    "for am in amenities_cols:\n",
    "    fig324 = go.Figure()\n",
    "    fig324 = make_subplots(\n",
    "        rows=1, \n",
    "        cols=2, \n",
    "        subplot_titles=('reviews_per_month', 'review_scores_rating')\n",
    "    )\n",
    "    \n",
    "    for var in reviews_cols:\n",
    "        for val in [0, 1]:\n",
    "            fig324.add_trace(go.Violin(\n",
    "                    x=df[am][df[am] == val],\n",
    "                    y=df[var][df[am] == val],\n",
    "                    name=val,                \n",
    "                    meanline_visible=True,\n",
    "                    line_color='Orange' if val == 0 else 'SteelBlue'\n",
    "                ),\n",
    "                row=1, \n",
    "                col=1 if var == 'reviews_per_month' else 2\n",
    "            )\n",
    "\n",
    "        fig324.update_layout(title=am, showlegend=False)\n",
    "        \n",
    "    fig324.show()\n",
    "\"\"\""
   ]
  },
  {
   "cell_type": "markdown",
   "metadata": {},
   "source": [
    "## Exportación dataset"
   ]
  },
  {
   "cell_type": "code",
   "execution_count": null,
   "metadata": {},
   "outputs": [],
   "source": [
    "df.to_csv(filename_out, index=False)"
   ]
  }
 ],
 "metadata": {
  "kernelspec": {
   "display_name": "Python 3",
   "language": "python",
   "name": "python3"
  },
  "language_info": {
   "codemirror_mode": {
    "name": "ipython",
    "version": 3
   },
   "file_extension": ".py",
   "mimetype": "text/x-python",
   "name": "python",
   "nbconvert_exporter": "python",
   "pygments_lexer": "ipython3",
   "version": "3.6.3"
  },
  "toc": {
   "base_numbering": 1,
   "nav_menu": {},
   "number_sections": true,
   "sideBar": true,
   "skip_h1_title": true,
   "title_cell": "Contenidos",
   "title_sidebar": "Contenidos",
   "toc_cell": true,
   "toc_position": {
    "height": "calc(100% - 180px)",
    "left": "10px",
    "top": "150px",
    "width": "384px"
   },
   "toc_section_display": true,
   "toc_window_display": false
  }
 },
 "nbformat": 4,
 "nbformat_minor": 2
}
