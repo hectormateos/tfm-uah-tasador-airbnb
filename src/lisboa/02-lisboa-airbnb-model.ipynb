{
 "cells": [
  {
   "cell_type": "markdown",
   "metadata": {},
   "source": [
    "__Máster en Data Science UAH__\n",
    "# Tasador de viviendas de alquiler vacacional en Lisboa\n",
    "# Notebook #2 - Selección de modelo base\n",
    "\n",
    "**Alumno:** Héctor Mateos Oblanca  \n",
    "**Tutor:** Daniel Rodríguez Pérez"
   ]
  },
  {
   "cell_type": "markdown",
   "metadata": {
    "toc": true
   },
   "source": [
    "<h1>Contenidos<span class=\"tocSkip\"></span></h1>\n",
    "<div class=\"toc\"><ul class=\"toc-item\"><li><span><a href=\"#Intro\" data-toc-modified-id=\"Intro-1\"><span class=\"toc-item-num\">1&nbsp;&nbsp;</span>Intro</a></span></li><li><span><a href=\"#Carga-del-dataset\" data-toc-modified-id=\"Carga-del-dataset-2\"><span class=\"toc-item-num\">2&nbsp;&nbsp;</span>Carga del dataset</a></span></li><li><span><a href=\"#Descarte-de-características\" data-toc-modified-id=\"Descarte-de-características-3\"><span class=\"toc-item-num\">3&nbsp;&nbsp;</span>Descarte de características</a></span></li><li><span><a href=\"#Conversión-de-características-categóricas-en-dummies\" data-toc-modified-id=\"Conversión-de-características-categóricas-en-dummies-4\"><span class=\"toc-item-num\">4&nbsp;&nbsp;</span>Conversión de características categóricas en <em>dummies</em></a></span></li><li><span><a href=\"#Partición-en-conjuntos-de-entrenamiento-y-test\" data-toc-modified-id=\"Partición-en-conjuntos-de-entrenamiento-y-test-5\"><span class=\"toc-item-num\">5&nbsp;&nbsp;</span>Partición en conjuntos de entrenamiento y test</a></span></li><li><span><a href=\"#Comparativa-de-modelos-de-regresión\" data-toc-modified-id=\"Comparativa-de-modelos-de-regresión-6\"><span class=\"toc-item-num\">6&nbsp;&nbsp;</span>Comparativa de modelos de regresión</a></span><ul class=\"toc-item\"><li><span><a href=\"#Regresión-Lineal\" data-toc-modified-id=\"Regresión-Lineal-6.1\"><span class=\"toc-item-num\">6.1&nbsp;&nbsp;</span>Regresión Lineal</a></span><ul class=\"toc-item\"><li><span><a href=\"#Resultados\" data-toc-modified-id=\"Resultados-6.1.1\"><span class=\"toc-item-num\">6.1.1&nbsp;&nbsp;</span>Resultados</a></span></li></ul></li><li><span><a href=\"#Regresión-Lineal-Ridge\" data-toc-modified-id=\"Regresión-Lineal-Ridge-6.2\"><span class=\"toc-item-num\">6.2&nbsp;&nbsp;</span>Regresión Lineal Ridge</a></span><ul class=\"toc-item\"><li><span><a href=\"#Resultados\" data-toc-modified-id=\"Resultados-6.2.1\"><span class=\"toc-item-num\">6.2.1&nbsp;&nbsp;</span>Resultados</a></span></li></ul></li><li><span><a href=\"#Regresión-Lineal-Lasso\" data-toc-modified-id=\"Regresión-Lineal-Lasso-6.3\"><span class=\"toc-item-num\">6.3&nbsp;&nbsp;</span>Regresión Lineal Lasso</a></span><ul class=\"toc-item\"><li><span><a href=\"#Resultados\" data-toc-modified-id=\"Resultados-6.3.1\"><span class=\"toc-item-num\">6.3.1&nbsp;&nbsp;</span>Resultados</a></span></li></ul></li><li><span><a href=\"#Regresión-Lineal-Stochastic-Gradient-Descent\" data-toc-modified-id=\"Regresión-Lineal-Stochastic-Gradient-Descent-6.4\"><span class=\"toc-item-num\">6.4&nbsp;&nbsp;</span>Regresión Lineal Stochastic Gradient Descent</a></span><ul class=\"toc-item\"><li><span><a href=\"#Resultados\" data-toc-modified-id=\"Resultados-6.4.1\"><span class=\"toc-item-num\">6.4.1&nbsp;&nbsp;</span>Resultados</a></span></li></ul></li><li><span><a href=\"#Regresión-Random-Forest\" data-toc-modified-id=\"Regresión-Random-Forest-6.5\"><span class=\"toc-item-num\">6.5&nbsp;&nbsp;</span>Regresión Random Forest</a></span><ul class=\"toc-item\"><li><span><a href=\"#Resultados\" data-toc-modified-id=\"Resultados-6.5.1\"><span class=\"toc-item-num\">6.5.1&nbsp;&nbsp;</span>Resultados</a></span></li></ul></li><li><span><a href=\"#Regresión-AdaBoost\" data-toc-modified-id=\"Regresión-AdaBoost-6.6\"><span class=\"toc-item-num\">6.6&nbsp;&nbsp;</span>Regresión AdaBoost</a></span><ul class=\"toc-item\"><li><span><a href=\"#Resultados\" data-toc-modified-id=\"Resultados-6.6.1\"><span class=\"toc-item-num\">6.6.1&nbsp;&nbsp;</span>Resultados</a></span></li></ul></li><li><span><a href=\"#Regresión-XGBoost\" data-toc-modified-id=\"Regresión-XGBoost-6.7\"><span class=\"toc-item-num\">6.7&nbsp;&nbsp;</span>Regresión XGBoost</a></span><ul class=\"toc-item\"><li><span><a href=\"#Resultados\" data-toc-modified-id=\"Resultados-6.7.1\"><span class=\"toc-item-num\">6.7.1&nbsp;&nbsp;</span>Resultados</a></span></li></ul></li><li><span><a href=\"#Regresión-CatBoost\" data-toc-modified-id=\"Regresión-CatBoost-6.8\"><span class=\"toc-item-num\">6.8&nbsp;&nbsp;</span>Regresión CatBoost</a></span><ul class=\"toc-item\"><li><span><a href=\"#Resultados\" data-toc-modified-id=\"Resultados-6.8.1\"><span class=\"toc-item-num\">6.8.1&nbsp;&nbsp;</span>Resultados</a></span></li></ul></li></ul></li></ul></div>"
   ]
  },
  {
   "cell_type": "markdown",
   "metadata": {},
   "source": [
    "## Intro"
   ]
  },
  {
   "cell_type": "code",
   "execution_count": null,
   "metadata": {},
   "outputs": [],
   "source": [
    "city = 'lisboa'\n",
    "month = '201909'\n",
    "filename_in = '../data/' + city + '-' + month + '-listings-CLEAN.csv'\n",
    "\n",
    "# modelos para la comparativa\n",
    "enabled_models = [\n",
    "    'LINEAL', \n",
    "    'RIDGE', \n",
    "    'LASSO', \n",
    "    'SGD', \n",
    "    'R.FOREST', \n",
    "    'ADABOOST', \n",
    "    'XGBOOST',\n",
    "    'CATBOOST'\n",
    "]"
   ]
  },
  {
   "cell_type": "code",
   "execution_count": null,
   "metadata": {
    "scrolled": true
   },
   "outputs": [],
   "source": [
    "import math\n",
    "import pandas as pd\n",
    "import numpy as np\n",
    "import matplotlib.pyplot as plt\n",
    "from IPython.display import display, HTML\n",
    " \n",
    "import catboost as cb\n",
    "from sklearn.svm import NuSVR\n",
    "from sklearn.ensemble import RandomForestRegressor, AdaBoostRegressor\n",
    "from xgboost import XGBRegressor\n",
    "from sklearn.preprocessing import StandardScaler\n",
    "from sklearn.pipeline import Pipeline\n",
    "from sklearn.linear_model import LinearRegression, Ridge, Lasso, SGDRegressor\n",
    "from sklearn.model_selection import train_test_split, GridSearchCV, cross_val_score, cross_val_predict \n",
    "from sklearn.metrics import r2_score, mean_squared_error, mean_absolute_error\n",
    "\n",
    "import plotly.express as px\n",
    "import chart_studio.plotly as py\n",
    "import plotly.graph_objs as go\n",
    "from plotly.offline import iplot, init_notebook_mode\n",
    "\n",
    "%run ../utils.py"
   ]
  },
  {
   "cell_type": "code",
   "execution_count": null,
   "metadata": {
    "scrolled": true
   },
   "outputs": [],
   "source": [
    "coefs = {}\n",
    "metrics = {}\n",
    "\n",
    "def collect_results(columns, model, method, r2_mean_cv, r2_std_cv, r2, mae, mse, skip_coef=True):\n",
    "    # coefs\n",
    "    if skip_coef != True:\n",
    "        method_coefs = {}\n",
    "        if hasattr(model, '__intercept'):\n",
    "            method_coefs['__intercept'] = model.intercept_\n",
    "        \n",
    "        for i in range(len(columns.values)):\n",
    "            method_coefs[columns.values[i]] = abs(model.coef_[i])\n",
    "        coefs[method] = method_coefs\n",
    "        df_coefs = pd.DataFrame(coefs)\n",
    "        df_coefs = df_coefs.sort_values(by=method, ascending=False)\n",
    "        display(df_coefs)\n",
    "    \n",
    "    # metrics\n",
    "    metrics[method] = {\n",
    "        'R2 MEAN CV':r2_mean_cv.round(3),\n",
    "        'R2 STD CV':r2_std_cv.round(3),\n",
    "        'R2':r2.round(3),\n",
    "        'MAE':mae.round(3),\n",
    "        'MSE':mse.round(3)\n",
    "    }\n",
    "    \n",
    "    display(pd.DataFrame(metrics))\n",
    "\n",
    "def print_feature_importances(method, importances, df):\n",
    "    feature_score = pd.DataFrame(list(zip(df.dtypes.index, importances)), columns=['Feature','Score'])\n",
    "    feature_score = feature_score.sort_values(by='Score', \n",
    "                                              ascending=True, \n",
    "                                              inplace=False, \n",
    "                                              kind='quicksort', \n",
    "                                              na_position='last')\n",
    "    \n",
    "    fig = go.Figure(\n",
    "        go.Bar(\n",
    "            x=feature_score['Score'],\n",
    "            y=feature_score['Feature'],\n",
    "            orientation='h'\n",
    "        )\n",
    "    )\n",
    "    \n",
    "    fig.update_layout(\n",
    "        title=method + \" Feature Importance Ranking\",\n",
    "        height=25*len(feature_score)\n",
    "    )\n",
    "    \n",
    "    fig.show()"
   ]
  },
  {
   "cell_type": "markdown",
   "metadata": {},
   "source": [
    "## Carga del dataset"
   ]
  },
  {
   "cell_type": "code",
   "execution_count": null,
   "metadata": {
    "scrolled": true
   },
   "outputs": [],
   "source": [
    "df = pd.read_csv(filename_in)\n",
    "df.info()"
   ]
  },
  {
   "cell_type": "markdown",
   "metadata": {},
   "source": [
    "## Descarte de características"
   ]
  },
  {
   "cell_type": "code",
   "execution_count": null,
   "metadata": {
    "scrolled": true
   },
   "outputs": [],
   "source": [
    "useful_cols = [\n",
    "    'accommodates',\n",
    "    'bathrooms',\n",
    "    'bedrooms',\n",
    "    'cancellation_policy',\n",
    "    'cleaning_fee',\n",
    "    'extra_people',\n",
    "    'guests_included',\n",
    "    'has_air_conditioning',\n",
    "    'has_bed_linens',\n",
    "    'has_coffee_maker',\n",
    "    'has_cooking_basics',\n",
    "    'has_dishes_and_silverware',\n",
    "    'has_elevator',\n",
    "    'has_essentials',\n",
    "    'has_family/kid_friendly',\n",
    "    'has_first_aid_kit',\n",
    "    'has_hair_dryer',\n",
    "    'has_hangers',\n",
    "    'has_heating',\n",
    "    'has_hot_water',\n",
    "    'has_iron',\n",
    "    'has_kitchen',\n",
    "    'has_laptop_friendly_workspace',\n",
    "    'has_license',\n",
    "    'has_long_term_stays_allowed',\n",
    "    'has_microwave',\n",
    "    'has_no_stairs_or_steps_to_enter',\n",
    "    'has_oven',\n",
    "    'has_refrigerator',\n",
    "    'has_shampoo',\n",
    "    'has_stove',\n",
    "    'has_tv',\n",
    "    'has_washer',\n",
    "    'has_wifi',\n",
    "    'instant_bookable',\n",
    "    'latitude',\n",
    "    'longitude',\n",
    "    'maximum_nights_avg_ntm',\n",
    "    'minimum_nights_avg_ntm',\n",
    "    'neighbourhood',\n",
    "    'price',\n",
    "    'property_type',\n",
    "    'room_type',\n",
    "    'security_deposit'\n",
    "]\n",
    "\n",
    "useless_cols = [\n",
    "    'district',\n",
    "    'neighbourhood',\n",
    "    'income_med_occupation',\n",
    "    'price_med_occupation_per_accommodate',\n",
    "    'activity_months',\n",
    "    'host_response_time',\n",
    "    'first_review',\n",
    "    'last_review',\n",
    "    'number_of_reviews',\n",
    "    'number_of_reviews_ltm',\n",
    "    'review_scores_rating',\n",
    "    'review_scores_accuracy',\n",
    "    'review_scores_cleanliness',\n",
    "    'review_scores_checkin',\n",
    "    'review_scores_communication',\n",
    "    'review_scores_location',\n",
    "    'review_scores_value',\n",
    "    'reviews_per_month'\n",
    "]\n",
    "\n",
    "highly_corr_cols = [\n",
    "    'host_verified_by_selfie'\n",
    "]\n",
    "\n",
    "df.drop([*useless_cols, *highly_corr_cols], axis=1, errors='ignore', inplace=True)\n",
    "df.shape"
   ]
  },
  {
   "cell_type": "markdown",
   "metadata": {},
   "source": [
    "## Conversión de características categóricas en _dummies_"
   ]
  },
  {
   "cell_type": "code",
   "execution_count": null,
   "metadata": {},
   "outputs": [],
   "source": [
    "print(df.shape)\n",
    "dfd = pd.get_dummies(df)\n",
    "print(dfd.shape)\n",
    "\n",
    "target = 'price'\n",
    "features = list(dfd.columns)\n",
    "features.remove(target)"
   ]
  },
  {
   "cell_type": "markdown",
   "metadata": {},
   "source": [
    "## Partición en conjuntos de entrenamiento y test"
   ]
  },
  {
   "cell_type": "code",
   "execution_count": null,
   "metadata": {
    "scrolled": true
   },
   "outputs": [],
   "source": [
    "x_train, x_test, y_train, y_test = train_test_split(\n",
    "    dfd[features], \n",
    "    dfd[target],\n",
    "    test_size=0.3,\n",
    "    random_state=42\n",
    ")\n",
    "\n",
    "x_train = x_train.astype(float) # prevent conversion warnings\n",
    "\n",
    "alphas = np.array([100000, 10000, 1000, 100, 1, 0, 0.1, 0.01, 0.001, 0.0001, 0.00001, 0.000001])"
   ]
  },
  {
   "cell_type": "markdown",
   "metadata": {},
   "source": [
    "## Comparativa de modelos de regresión"
   ]
  },
  {
   "cell_type": "markdown",
   "metadata": {},
   "source": [
    "### Regresión Lineal"
   ]
  },
  {
   "cell_type": "code",
   "execution_count": null,
   "metadata": {
    "scrolled": true
   },
   "outputs": [],
   "source": [
    "method = 'LINEAL'\n",
    "if method in enabled_models:\n",
    "    model = LinearRegression(normalize=True)\n",
    "    \n",
    "    pipeline = Pipeline([\n",
    "        ('scaler', StandardScaler()),\n",
    "        ('model', model)\n",
    "    ])\n",
    "\n",
    "    param_grid = {}\n",
    "\n",
    "    regressor = GridSearchCV(pipeline, param_grid, scoring='r2', cv=5)\n",
    "    regressor.fit(x_train, y_train)\n",
    "    print('best score', regressor.best_score_)\n",
    "    print('best estimator', regressor.best_estimator_.named_steps['model'])\n",
    "    \n",
    "    scores = cross_val_score(regressor, x_train, y_train, cv=5)\n",
    "    r2_mean_cv = np.mean(scores)\n",
    "    r2_std_cv = np.std(scores)\n",
    "    \n",
    "    y_pred = regressor.predict(x_test)\n",
    "    \n",
    "    r2 = r2_score(y_test.to_list(), y_pred)\n",
    "    mae = mean_absolute_error(y_test, y_pred)\n",
    "    mse = mean_squared_error(y_test, y_pred)"
   ]
  },
  {
   "cell_type": "markdown",
   "metadata": {},
   "source": [
    "#### Resultados"
   ]
  },
  {
   "cell_type": "code",
   "execution_count": null,
   "metadata": {
    "scrolled": false
   },
   "outputs": [],
   "source": [
    "if method in enabled_models:\n",
    "    collect_results(dfd[features].columns, regressor, method, r2_mean_cv, r2_std_cv, r2, mae, mse, skip_coef=True)"
   ]
  },
  {
   "cell_type": "markdown",
   "metadata": {},
   "source": [
    "### Regresión Lineal Ridge"
   ]
  },
  {
   "cell_type": "code",
   "execution_count": null,
   "metadata": {
    "scrolled": true
   },
   "outputs": [],
   "source": [
    "method = 'RIDGE'\n",
    "if method in enabled_models:\n",
    "    model = Ridge(normalize=True, random_state=42)\n",
    "    \n",
    "    pipeline = Pipeline([\n",
    "        ('scaler', StandardScaler()),\n",
    "        ('model', model)\n",
    "    ])\n",
    "\n",
    "    param_grid = {\n",
    "        'model__alpha':[0.1], \n",
    "        'model__tol':[0.001]\n",
    "    }\n",
    "\n",
    "    regressor = GridSearchCV(pipeline, param_grid, scoring='r2', cv=5)\n",
    "    regressor.fit(x_train, y_train)\n",
    "    print('best score', regressor.best_score_)\n",
    "    print('best estimator', regressor.best_estimator_.named_steps['model'])\n",
    "    \n",
    "    scores = cross_val_score(regressor, x_train, y_train, cv=5)\n",
    "    r2_mean_cv = np.mean(scores)\n",
    "    r2_std_cv = np.std(scores)\n",
    "\n",
    "    y_pred = regressor.predict(x_test)\n",
    "\n",
    "    r2 = r2_score(y_test, y_pred)\n",
    "    mae = mean_absolute_error(y_test, y_pred)\n",
    "    mse = mean_squared_error(y_test, y_pred)"
   ]
  },
  {
   "cell_type": "markdown",
   "metadata": {},
   "source": [
    "#### Resultados"
   ]
  },
  {
   "cell_type": "code",
   "execution_count": null,
   "metadata": {
    "scrolled": false
   },
   "outputs": [],
   "source": [
    "if method in enabled_models:\n",
    "    collect_results(dfd[features].columns, regressor.best_estimator_, method, r2_mean_cv, r2_std_cv, r2, mae, mse, skip_coef=True)"
   ]
  },
  {
   "cell_type": "markdown",
   "metadata": {},
   "source": [
    "### Regresión Lineal Lasso"
   ]
  },
  {
   "cell_type": "code",
   "execution_count": null,
   "metadata": {
    "scrolled": false
   },
   "outputs": [],
   "source": [
    "method = 'LASSO'\n",
    "if method in enabled_models:\n",
    "    model = Lasso(normalize=True, random_state=42)\n",
    "\n",
    "    pipeline = Pipeline([\n",
    "        ('scaler', StandardScaler()),\n",
    "        ('model', model)\n",
    "    ])\n",
    "\n",
    "    param_grid = {\n",
    "        'model__alpha':[0.001, 0.1], \n",
    "        'model__tol':[0.001, 0.01],\n",
    "        'model__max_iter':[100, 200]\n",
    "    }\n",
    "\n",
    "    regressor = GridSearchCV(pipeline, param_grid, scoring='r2', cv=5)\n",
    "    regressor.fit(x_train, y_train)\n",
    "    print('best score', regressor.best_score_)\n",
    "    print('best estimator', regressor.best_estimator_.named_steps['model'])\n",
    "\n",
    "    scores = cross_val_score(regressor, x_train, y_train, cv=5)\n",
    "    r2_mean_cv = np.mean(scores)\n",
    "    r2_std_cv = np.std(scores)\n",
    "    \n",
    "    y_pred = regressor.predict(x_test)\n",
    "\n",
    "    r2 = r2_score(y_test, y_pred)\n",
    "    mae = mean_absolute_error(y_test, y_pred)\n",
    "    mse = mean_squared_error(y_test, y_pred)"
   ]
  },
  {
   "cell_type": "markdown",
   "metadata": {},
   "source": [
    "#### Resultados"
   ]
  },
  {
   "cell_type": "code",
   "execution_count": null,
   "metadata": {
    "scrolled": false
   },
   "outputs": [],
   "source": [
    "if method in enabled_models:\n",
    "    collect_results(dfd[features].columns, regressor.best_estimator_, method, r2_mean_cv, r2_std_cv, r2, mae, mse, skip_coef=True)"
   ]
  },
  {
   "cell_type": "markdown",
   "metadata": {},
   "source": [
    "### Regresión Lineal Stochastic Gradient Descent"
   ]
  },
  {
   "cell_type": "code",
   "execution_count": null,
   "metadata": {
    "scrolled": true
   },
   "outputs": [],
   "source": [
    "method = 'SGD'\n",
    "if method in enabled_models:\n",
    "    model = SGDRegressor(random_state=42)\n",
    "\n",
    "    pipeline = Pipeline([\n",
    "        ('scaler', StandardScaler()),\n",
    "        ('model', model)\n",
    "    ])\n",
    "\n",
    "    param_grid = {\n",
    "        'model__alpha':alphas,\n",
    "        'model__penalty':['l1', 'l2'],\n",
    "        'model__tol':[0.3],\n",
    "        'model__max_iter':[500]\n",
    "    }\n",
    "\n",
    "    regressor = GridSearchCV(pipeline, param_grid, cv=5)\n",
    "    regressor.fit(x_train, y_train)\n",
    "    print('best score', regressor.best_score_)\n",
    "    print('best estimator', regressor.best_estimator_.named_steps['model'])\n",
    "\n",
    "    scores = cross_val_score(regressor, x_train, y_train, cv=5)\n",
    "    r2_mean_cv = np.mean(scores)\n",
    "    r2_std_cv = np.std(scores)\n",
    "\n",
    "    y_pred = regressor.predict(x_test)\n",
    "\n",
    "    r2 = r2_score(y_test, y_pred)\n",
    "    mae = mean_absolute_error(y_test, y_pred)\n",
    "    mse = mean_squared_error(y_test, y_pred)"
   ]
  },
  {
   "cell_type": "markdown",
   "metadata": {},
   "source": [
    "#### Resultados"
   ]
  },
  {
   "cell_type": "code",
   "execution_count": null,
   "metadata": {
    "scrolled": false
   },
   "outputs": [],
   "source": [
    "if method in enabled_models:\n",
    "    collect_results(dfd[features].columns, regressor.best_estimator_.named_steps['model'], method, r2_mean_cv, r2_std_cv, r2, mae, mse, skip_coef=True)"
   ]
  },
  {
   "cell_type": "markdown",
   "metadata": {},
   "source": [
    "### Regresión Random Forest"
   ]
  },
  {
   "cell_type": "code",
   "execution_count": null,
   "metadata": {
    "scrolled": true
   },
   "outputs": [],
   "source": [
    "method = 'R.FOREST'\n",
    "if method in enabled_models:\n",
    "    model = RandomForestRegressor(random_state=42)\n",
    "    pipeline = Pipeline([('model', model)])\n",
    "\n",
    "    param_grid = {\n",
    "        #'model__max_depth':[15],\n",
    "        'model__n_estimators':[200]\n",
    "    }\n",
    "\n",
    "    regressor = GridSearchCV(pipeline, param_grid, cv=5)\n",
    "    regressor.fit(x_train, y_train)\n",
    "    print('best score', regressor.best_score_)\n",
    "    print('best estimator', regressor.best_estimator_.named_steps['model'])\n",
    "\n",
    "    scores = cross_val_score(regressor, x_train, y_train, cv=5)\n",
    "    r2_mean_cv = np.mean(scores)\n",
    "    r2_std_cv = np.std(scores)\n",
    "\n",
    "    y_pred = regressor.predict(x_test)\n",
    "\n",
    "    r2 = r2_score(y_test, y_pred)\n",
    "    mae = mean_absolute_error(y_test, y_pred)\n",
    "    mse = mean_squared_error(y_test, y_pred)"
   ]
  },
  {
   "cell_type": "markdown",
   "metadata": {},
   "source": [
    "#### Resultados"
   ]
  },
  {
   "cell_type": "code",
   "execution_count": null,
   "metadata": {
    "scrolled": false
   },
   "outputs": [],
   "source": [
    "if method in enabled_models:\n",
    "    collect_results(dfd[features].columns, model, method, r2_mean_cv, r2_std_cv, r2, mae, mse, skip_coef=True)\n",
    "    importances = regressor.best_estimator_.named_steps['model'].feature_importances_\n",
    "    print_feature_importances(method, importances, dfd[features])"
   ]
  },
  {
   "cell_type": "markdown",
   "metadata": {},
   "source": [
    "### Regresión AdaBoost"
   ]
  },
  {
   "cell_type": "code",
   "execution_count": null,
   "metadata": {},
   "outputs": [],
   "source": [
    "method = 'ADABOOST'\n",
    "if method in enabled_models:\n",
    "    model = AdaBoostRegressor(random_state=42)\n",
    "    pipeline = Pipeline([('model', model)])\n",
    "\n",
    "    param_grid = {\n",
    "        'model__n_estimators':[175],\n",
    "        'model__learning_rate':[0.01]\n",
    "    }\n",
    "\n",
    "    regressor = GridSearchCV(pipeline, param_grid, cv=2)\n",
    "    regressor.fit(x_train, y_train)\n",
    "    print('best score', regressor.best_score_)\n",
    "    print('best estimator', regressor.best_estimator_.named_steps['model'])\n",
    "\n",
    "    scores = cross_val_score(regressor, x_train, y_train, cv=2)\n",
    "    r2_mean_cv = np.mean(scores)\n",
    "    r2_std_cv = np.std(scores)\n",
    "\n",
    "    y_pred = regressor.predict(x_test)\n",
    "\n",
    "    r2 = r2_score(y_test, y_pred)\n",
    "    mae = mean_absolute_error(y_test, y_pred)\n",
    "    mse = mean_squared_error(y_test, y_pred)"
   ]
  },
  {
   "cell_type": "markdown",
   "metadata": {},
   "source": [
    "#### Resultados"
   ]
  },
  {
   "cell_type": "code",
   "execution_count": null,
   "metadata": {},
   "outputs": [],
   "source": [
    "if method in enabled_models:\n",
    "    collect_results(dfd[features].columns, model, method, r2_mean_cv, r2_std_cv, r2, mae, mse, skip_coef=True)\n",
    "    importances = regressor.best_estimator_.named_steps['model'].feature_importances_\n",
    "    print_feature_importances(method, importances, dfd[features])"
   ]
  },
  {
   "cell_type": "markdown",
   "metadata": {},
   "source": [
    "### Regresión XGBoost"
   ]
  },
  {
   "cell_type": "code",
   "execution_count": null,
   "metadata": {
    "scrolled": true
   },
   "outputs": [],
   "source": [
    "method = 'XGBOOST'\n",
    "if method in enabled_models:\n",
    "    model = XGBRegressor(random_state=42)\n",
    "    pipeline = Pipeline([('model', model)])\n",
    "\n",
    "    param_grid = {\n",
    "        'model__depth':[10],\n",
    "        'model__iterations':[150],\n",
    "        'model__learning_rate':[0.2]\n",
    "    }\n",
    "\n",
    "    regressor = GridSearchCV(pipeline, param_grid, cv=5)\n",
    "    regressor.fit(x_train, y_train)\n",
    "    print('best score', regressor.best_score_)\n",
    "    print('best estimator', regressor.best_estimator_.named_steps['model'])\n",
    "\n",
    "    scores = cross_val_score(regressor, x_train, y_train, cv=5)\n",
    "    r2_mean_cv = np.mean(scores)\n",
    "    r2_std_cv = np.std(scores)\n",
    "\n",
    "    y_pred = regressor.predict(x_test)\n",
    "\n",
    "    r2 = r2_score(y_test, y_pred)\n",
    "    mae = mean_absolute_error(y_test, y_pred)\n",
    "    mse = mean_squared_error(y_test, y_pred)"
   ]
  },
  {
   "cell_type": "markdown",
   "metadata": {},
   "source": [
    "#### Resultados"
   ]
  },
  {
   "cell_type": "code",
   "execution_count": null,
   "metadata": {},
   "outputs": [],
   "source": [
    "if method in enabled_models:\n",
    "    collect_results(dfd[features].columns, model, method, r2_mean_cv, r2_std_cv, r2, mae, mse, skip_coef=True)\n",
    "    importances = regressor.best_estimator_.named_steps['model'].feature_importances_\n",
    "    print_feature_importances(method, importances, dfd[features])"
   ]
  },
  {
   "cell_type": "markdown",
   "metadata": {},
   "source": [
    "### Regresión CatBoost"
   ]
  },
  {
   "cell_type": "code",
   "execution_count": null,
   "metadata": {
    "scrolled": true
   },
   "outputs": [],
   "source": [
    "method = 'CATBOOST'\n",
    "if method in enabled_models:\n",
    "    model = cb.CatBoostRegressor(verbose=0, random_seed=42)\n",
    "    pipeline = Pipeline([('model', model)])\n",
    "\n",
    "    param_grid = {\n",
    "        'model__depth':[10],\n",
    "        'model__iterations':[150],\n",
    "        'model__learning_rate':[0.1]\n",
    "    }\n",
    "\n",
    "    regressor = GridSearchCV(pipeline, param_grid, cv=5)\n",
    "    regressor.fit(x_train, y_train)\n",
    "    print('best score', regressor.best_score_)\n",
    "    print('best estimator', regressor.best_estimator_.named_steps['model'].get_params())\n",
    "\n",
    "    scores = cross_val_score(regressor, x_train, y_train, cv=5)\n",
    "    r2_mean_cv = np.mean(scores)\n",
    "    r2_std_cv = np.std(scores)\n",
    "\n",
    "    y_pred = regressor.predict(x_test)\n",
    "\n",
    "    r2 = r2_score(y_test, y_pred)\n",
    "    mae = mean_absolute_error(y_test, y_pred)\n",
    "    mse = mean_squared_error(y_test, y_pred)"
   ]
  },
  {
   "cell_type": "markdown",
   "metadata": {},
   "source": [
    "#### Resultados"
   ]
  },
  {
   "cell_type": "code",
   "execution_count": null,
   "metadata": {
    "scrolled": false
   },
   "outputs": [],
   "source": [
    "if method in enabled_models:\n",
    "    collect_results(dfd[features].columns, model, method, r2_mean_cv, r2_std_cv, r2, mae, mse, skip_coef=True)\n",
    "    importances = regressor.best_estimator_.named_steps['model'].feature_importances_\n",
    "    print_feature_importances(method, importances, dfd[features])"
   ]
  },
  {
   "cell_type": "markdown",
   "metadata": {},
   "source": [
    "Modelo base seleccionado: __Random Forest__"
   ]
  }
 ],
 "metadata": {
  "kernelspec": {
   "display_name": "Python 3",
   "language": "python",
   "name": "python3"
  },
  "language_info": {
   "codemirror_mode": {
    "name": "ipython",
    "version": 3
   },
   "file_extension": ".py",
   "mimetype": "text/x-python",
   "name": "python",
   "nbconvert_exporter": "python",
   "pygments_lexer": "ipython3",
   "version": "3.6.3"
  },
  "toc": {
   "base_numbering": 1,
   "nav_menu": {},
   "number_sections": true,
   "sideBar": true,
   "skip_h1_title": true,
   "title_cell": "Contenidos",
   "title_sidebar": "Contenidos",
   "toc_cell": true,
   "toc_position": {},
   "toc_section_display": true,
   "toc_window_display": false
  }
 },
 "nbformat": 4,
 "nbformat_minor": 2
}
