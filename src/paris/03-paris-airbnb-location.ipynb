{
 "cells": [
  {
   "cell_type": "markdown",
   "metadata": {},
   "source": [
    "__Máster en Data Science UAH__\n",
    "# Tasador de viviendas de alquiler vacacional en París\n",
    "# Notebook #3 - Estudio de la localización\n",
    "\n",
    "**Alumno:** Héctor Mateos Oblanca  \n",
    "**Tutor:** Daniel Rodríguez Pérez"
   ]
  },
  {
   "cell_type": "markdown",
   "metadata": {
    "toc": true
   },
   "source": [
    "<h1>Contenidos<span class=\"tocSkip\"></span></h1>\n",
    "<div class=\"toc\"><ul class=\"toc-item\"><li><span><a href=\"#Intro\" data-toc-modified-id=\"Intro-1\"><span class=\"toc-item-num\">1&nbsp;&nbsp;</span>Intro</a></span></li><li><span><a href=\"#Carga-del-dataset\" data-toc-modified-id=\"Carga-del-dataset-2\"><span class=\"toc-item-num\">2&nbsp;&nbsp;</span>Carga del dataset</a></span></li><li><span><a href=\"#Descarte-de-características\" data-toc-modified-id=\"Descarte-de-características-3\"><span class=\"toc-item-num\">3&nbsp;&nbsp;</span>Descarte de características</a></span></li><li><span><a href=\"#Nuevas-características-de-localización-calculadas\" data-toc-modified-id=\"Nuevas-características-de-localización-calculadas-4\"><span class=\"toc-item-num\">4&nbsp;&nbsp;</span>Nuevas características de localización calculadas</a></span><ul class=\"toc-item\"><li><span><a href=\"#Distancia-a-puntos-de-interés\" data-toc-modified-id=\"Distancia-a-puntos-de-interés-4.1\"><span class=\"toc-item-num\">4.1&nbsp;&nbsp;</span>Distancia a puntos de interés</a></span></li><li><span><a href=\"#Clustering-de-barrios\" data-toc-modified-id=\"Clustering-de-barrios-4.2\"><span class=\"toc-item-num\">4.2&nbsp;&nbsp;</span><em>Clustering</em> de barrios</a></span></li><li><span><a href=\"#Celdas-S2\" data-toc-modified-id=\"Celdas-S2-4.3\"><span class=\"toc-item-num\">4.3&nbsp;&nbsp;</span>Celdas S2</a></span></li><li><span><a href=\"#Regiones-Voronoi\" data-toc-modified-id=\"Regiones-Voronoi-4.4\"><span class=\"toc-item-num\">4.4&nbsp;&nbsp;</span>Regiones Voronoi</a></span></li></ul></li><li><span><a href=\"#Conversión-de-características-categóricas-en-dummies\" data-toc-modified-id=\"Conversión-de-características-categóricas-en-dummies-5\"><span class=\"toc-item-num\">5&nbsp;&nbsp;</span>Conversión de características categóricas en <em>dummies</em></a></span></li><li><span><a href=\"#Partición-en-conjuntos-de-entrenamiento-y-test\" data-toc-modified-id=\"Partición-en-conjuntos-de-entrenamiento-y-test-6\"><span class=\"toc-item-num\">6&nbsp;&nbsp;</span>Partición en conjuntos de entrenamiento y test</a></span></li><li><span><a href=\"#Modelo-base:-CatBoost\" data-toc-modified-id=\"Modelo-base:-CatBoost-7\"><span class=\"toc-item-num\">7&nbsp;&nbsp;</span>Modelo base: CatBoost</a></span></li><li><span><a href=\"#Estudio-de-la-localización\" data-toc-modified-id=\"Estudio-de-la-localización-8\"><span class=\"toc-item-num\">8&nbsp;&nbsp;</span>Estudio de la localización</a></span><ul class=\"toc-item\"><li><span><a href=\"#Modelo-sin-variable-geográfica\" data-toc-modified-id=\"Modelo-sin-variable-geográfica-8.1\"><span class=\"toc-item-num\">8.1&nbsp;&nbsp;</span>Modelo sin variable geográfica</a></span><ul class=\"toc-item\"><li><span><a href=\"#Residuos\" data-toc-modified-id=\"Residuos-8.1.1\"><span class=\"toc-item-num\">8.1.1&nbsp;&nbsp;</span>Residuos</a></span></li><li><span><a href=\"#Residuos-outliers\" data-toc-modified-id=\"Residuos-outliers-8.1.2\"><span class=\"toc-item-num\">8.1.2&nbsp;&nbsp;</span>Residuos outliers</a></span></li></ul></li><li><span><a href=\"#Coordenadas\" data-toc-modified-id=\"Coordenadas-8.2\"><span class=\"toc-item-num\">8.2&nbsp;&nbsp;</span>Coordenadas</a></span></li><li><span><a href=\"#Barrios\" data-toc-modified-id=\"Barrios-8.3\"><span class=\"toc-item-num\">8.3&nbsp;&nbsp;</span>Barrios</a></span></li><li><span><a href=\"#Cluster-de-barrios\" data-toc-modified-id=\"Cluster-de-barrios-8.4\"><span class=\"toc-item-num\">8.4&nbsp;&nbsp;</span>Cluster de barrios</a></span></li><li><span><a href=\"#Distancias-a-puntos-de-interés\" data-toc-modified-id=\"Distancias-a-puntos-de-interés-8.5\"><span class=\"toc-item-num\">8.5&nbsp;&nbsp;</span>Distancias a puntos de interés</a></span></li><li><span><a href=\"#Voronoi\" data-toc-modified-id=\"Voronoi-8.6\"><span class=\"toc-item-num\">8.6&nbsp;&nbsp;</span>Voronoi</a></span></li><li><span><a href=\"#S2\" data-toc-modified-id=\"S2-8.7\"><span class=\"toc-item-num\">8.7&nbsp;&nbsp;</span>S2</a></span></li><li><span><a href=\"#Automated-feature-engineering\" data-toc-modified-id=\"Automated-feature-engineering-8.8\"><span class=\"toc-item-num\">8.8&nbsp;&nbsp;</span>Automated feature engineering</a></span></li></ul></li></ul></div>"
   ]
  },
  {
   "cell_type": "markdown",
   "metadata": {},
   "source": [
    "## Intro"
   ]
  },
  {
   "cell_type": "code",
   "execution_count": null,
   "metadata": {},
   "outputs": [],
   "source": [
    "city = 'paris'\n",
    "month = '201909'\n",
    "filename_in = '../data/' + city + '-' + month + '-listings-CLEAN.csv'"
   ]
  },
  {
   "cell_type": "code",
   "execution_count": null,
   "metadata": {
    "scrolled": true
   },
   "outputs": [],
   "source": [
    "import math\n",
    "import pandas as pd\n",
    "import numpy as np\n",
    "import matplotlib.pyplot as plt\n",
    "from IPython.display import display, HTML\n",
    "import featuretools as ft\n",
    "import uuid\n",
    "import s2sphere as s2\n",
    "import random\n",
    " \n",
    "import catboost as cb\n",
    "from kmodes.kmodes import KModes\n",
    "from sklearn.preprocessing import StandardScaler\n",
    "from sklearn.pipeline import Pipeline\n",
    "from sklearn.model_selection import train_test_split, GridSearchCV, cross_val_score, cross_val_predict \n",
    "from sklearn.metrics import r2_score, mean_squared_error, mean_absolute_error\n",
    "\n",
    "import scipy.spatial as spatial\n",
    "import plotly.express as px\n",
    "import chart_studio.plotly as py\n",
    "import plotly.graph_objs as go\n",
    "from plotly.offline import iplot, init_notebook_mode\n",
    "\n",
    "%run ../utils.py"
   ]
  },
  {
   "cell_type": "code",
   "execution_count": null,
   "metadata": {
    "scrolled": true
   },
   "outputs": [],
   "source": [
    "coefs = {}\n",
    "metrics = {}\n",
    "\n",
    "def collect_results(columns, model, method, r2, mae, mse, skip_coef=True):\n",
    "    # coefs\n",
    "    if skip_coef != True:\n",
    "        method_coefs = {}\n",
    "        if hasattr(model, '__intercept'):\n",
    "            method_coefs['__intercept'] = model.intercept_\n",
    "        \n",
    "        for i in range(len(columns.values)):\n",
    "            method_coefs[columns.values[i]] = abs(model.coef_[i])\n",
    "        coefs[method] = method_coefs\n",
    "        df_coefs = pd.DataFrame(coefs)\n",
    "        df_coefs = df_coefs.sort_values(by=method, ascending=False)\n",
    "        display(df_coefs)\n",
    "    \n",
    "    # metrics\n",
    "    metrics[method] = {\n",
    "        'R2':r2.round(3),\n",
    "        'MAE':mae.round(3),\n",
    "        'MSE':mse.round(3)\n",
    "    }\n",
    "    \n",
    "    display(pd.DataFrame(metrics))\n",
    "\n",
    "def print_feature_importances(method, importances, df):\n",
    "    feature_score = pd.DataFrame(list(zip(df.dtypes.index, importances)), columns=['Feature','Score'])\n",
    "    feature_score = feature_score.sort_values(by='Score', \n",
    "                                              ascending=True, \n",
    "                                              inplace=False, \n",
    "                                              kind='quicksort', \n",
    "                                              na_position='last')\n",
    "    \n",
    "    fig = go.Figure(\n",
    "        go.Bar(\n",
    "            x=feature_score['Score'],\n",
    "            y=feature_score['Feature'],\n",
    "            orientation='h'\n",
    "        )\n",
    "    )\n",
    "    \n",
    "    fig.update_layout(\n",
    "        title=method + \" Feature Importance Ranking\",\n",
    "        height=25*len(feature_score)\n",
    "    )\n",
    "    \n",
    "    fig.show()"
   ]
  },
  {
   "cell_type": "markdown",
   "metadata": {},
   "source": [
    "## Carga del dataset"
   ]
  },
  {
   "cell_type": "code",
   "execution_count": null,
   "metadata": {
    "scrolled": true
   },
   "outputs": [],
   "source": [
    "df = pd.read_csv(filename_in)\n",
    "df.info()"
   ]
  },
  {
   "cell_type": "markdown",
   "metadata": {},
   "source": [
    "## Descarte de características"
   ]
  },
  {
   "cell_type": "code",
   "execution_count": null,
   "metadata": {
    "scrolled": true
   },
   "outputs": [],
   "source": [
    "useful_cols = [\n",
    "    'accommodates',\n",
    "    'bathrooms',\n",
    "    'bedrooms',\n",
    "    'cancellation_policy',\n",
    "    'cleaning_fee',\n",
    "    'extra_people',\n",
    "    'guests_included',\n",
    "    'has_air_conditioning',\n",
    "    'has_bed_linens',\n",
    "    'has_coffee_maker',\n",
    "    'has_cooking_basics',\n",
    "    'has_dishes_and_silverware',\n",
    "    'has_elevator',\n",
    "    'has_essentials',\n",
    "    'has_family/kid_friendly',\n",
    "    'has_first_aid_kit',\n",
    "    'has_hair_dryer',\n",
    "    'has_hangers',\n",
    "    'has_heating',\n",
    "    'has_hot_water',\n",
    "    'has_iron',\n",
    "    'has_kitchen',\n",
    "    'has_laptop_friendly_workspace',\n",
    "    'has_license',\n",
    "    'has_long_term_stays_allowed',\n",
    "    'has_microwave',\n",
    "    'has_no_stairs_or_steps_to_enter',\n",
    "    'has_oven',\n",
    "    'has_refrigerator',\n",
    "    'has_shampoo',\n",
    "    'has_stove',\n",
    "    'has_tv',\n",
    "    'has_washer',\n",
    "    'has_wifi',\n",
    "    'instant_bookable',\n",
    "    'latitude',\n",
    "    'longitude',\n",
    "    'maximum_nights_avg_ntm',\n",
    "    'minimum_nights_avg_ntm',\n",
    "    'neighbourhood',\n",
    "    'price',\n",
    "    'property_type',\n",
    "    'room_type',\n",
    "    'security_deposit'\n",
    "]\n",
    "\n",
    "useless_cols = [\n",
    "    'district',\n",
    "    'income_med_occupation',\n",
    "    'activity_months',\n",
    "    'host_response_time',\n",
    "    'first_review',\n",
    "    'last_review',\n",
    "    'number_of_reviews',\n",
    "    'number_of_reviews_ltm',\n",
    "    'review_scores_rating',\n",
    "    'review_scores_accuracy',\n",
    "    'review_scores_cleanliness',\n",
    "    'review_scores_checkin',\n",
    "    'review_scores_communication',\n",
    "    'review_scores_location',\n",
    "    'review_scores_value',\n",
    "    'reviews_per_month'\n",
    "]\n",
    "\n",
    "highly_corr_cols = [\n",
    "    'has_refrigerator', \n",
    "    'host_verified_by_selfie'\n",
    "]\n",
    "\n",
    "df.drop([*useless_cols, *highly_corr_cols], axis=1, errors='ignore', inplace=True)\n",
    "df.shape"
   ]
  },
  {
   "cell_type": "markdown",
   "metadata": {},
   "source": [
    "## Nuevas características de localización calculadas"
   ]
  },
  {
   "cell_type": "markdown",
   "metadata": {},
   "source": [
    "### Distancia a puntos de interés\n",
    "\n",
    "Se calcula para cada propiedad la distancia en kilómetros a diferentes puntos de interés turístico de la ciudad."
   ]
  },
  {
   "cell_type": "code",
   "execution_count": null,
   "metadata": {},
   "outputs": [],
   "source": [
    "pois = [    \n",
    "    {'name':'eiffel-tower', 'coord':(48.8584, 2.2945)},\n",
    "    {'name':'louvre', 'coord':(48.8606, 2.3376)},\n",
    "    {'name':'notre-dame', 'coord':(48.8530, 2.3499)},\n",
    "    {'name':'arc-de-triomphe', 'coord':(48.8738, 2.2950)},\n",
    "    {'name':'montmartre', 'coord':(48.8862, 2.3431)}\n",
    "]"
   ]
  },
  {
   "cell_type": "code",
   "execution_count": null,
   "metadata": {},
   "outputs": [],
   "source": [
    "for poi in pois:\n",
    "    df['dist_' + poi['name']] = df.apply(\n",
    "        lambda r: get_haversine_distance(\n",
    "            r['latitude'], \n",
    "            r['longitude'], \n",
    "            poi['coord']), \n",
    "        axis=1)"
   ]
  },
  {
   "cell_type": "markdown",
   "metadata": {},
   "source": [
    "### _Clustering_ de barrios\n",
    "\n",
    "La característica neighbourhood tiene una cardinalidad muy alta que puede conducir a sobreajuste puesto que en algunos barrios hay pocos datos. Se propone, utilizando clusterización, una característica de cardinalidad intermedia entre barrios y distritos que agrupe barrios similares y que resulte más representativa para el estudio."
   ]
  },
  {
   "cell_type": "code",
   "execution_count": null,
   "metadata": {},
   "outputs": [],
   "source": [
    "km = KModes(n_clusters=15, init='Huang', n_init=10, random_state=42)\n",
    "df['nb_cluster'] = km.fit_predict(df[['price_med_occupation_per_accommodate', 'neighbourhood']])\n",
    "clusters = df['nb_cluster'].copy()\n",
    "df['nb_cluster'] = df['nb_cluster'].apply(lambda x: 'nb_' + str(x))\n",
    "df.drop(['price_med_occupation_per_accommodate'], axis=1, inplace=True) # solo era para calcular clusters"
   ]
  },
  {
   "cell_type": "code",
   "execution_count": null,
   "metadata": {
    "scrolled": false
   },
   "outputs": [],
   "source": [
    "cluster_map = pd.DataFrame(list(zip(df['neighbourhood'], clusters)), columns=['nb', 'cluster'])\n",
    "cluster_map.drop_duplicates(inplace=True)\n",
    "\n",
    "with open('../geo/' + city + '.neighbourhoods.geojson') as f:\n",
    "    city_nb = fix_geojson(json.load(f))\n",
    "    \n",
    "fig = go.Figure(go.Choroplethmapbox(\n",
    "    geojson=city_nb,\n",
    "    locations=cluster_map['nb'], \n",
    "    z=cluster_map['cluster'],                   \n",
    "    colorscale=px.colors.qualitative.Vivid,                                \n",
    "    marker_opacity=0.5, \n",
    "    marker_line_width=0.2\n",
    "))\n",
    "\n",
    "fig.update_layout(\n",
    "    mapbox_style='carto-positron',\n",
    "    mapbox_zoom=11, \n",
    "    mapbox_center={'lat':df['latitude'].mean(), 'lon':df['longitude'].mean()},\n",
    "    margin={\"r\":0,\"t\":0,\"l\":0,\"b\":0},\n",
    "    title='clusters',\n",
    "    showlegend=False\n",
    ")\n",
    "\n",
    "fig.show()"
   ]
  },
  {
   "cell_type": "markdown",
   "metadata": {},
   "source": [
    "### Celdas S2"
   ]
  },
  {
   "cell_type": "code",
   "execution_count": null,
   "metadata": {},
   "outputs": [],
   "source": [
    "def get_s2(lat, lng):\n",
    "    py_cellid = s2.CellId.from_lat_lng(\n",
    "        s2.LatLng.from_degrees(lat, lng)\n",
    "    )\n",
    "    py_cellid = py_cellid.parent(12)\n",
    "    return 's2_' + str(py_cellid.id())\n",
    "\n",
    "df['s2'] = df.apply(lambda r: get_s2(r['latitude'], r['longitude']), axis=1)"
   ]
  },
  {
   "cell_type": "code",
   "execution_count": null,
   "metadata": {},
   "outputs": [],
   "source": [
    "df_s2 = df[['s2', 'latitude', 'longitude']]\n",
    "s2_cells = sorted(df_s2['s2'].unique())\n",
    "random.shuffle(s2_cells)\n",
    "df_s2['idx'] = df_s2['s2'].apply(lambda x: s2_cells.index(x))"
   ]
  },
  {
   "cell_type": "code",
   "execution_count": null,
   "metadata": {},
   "outputs": [],
   "source": [
    "fig314 = go.Figure()\n",
    "\n",
    "fig314.add_trace(go.Scattermapbox(\n",
    "    lon=df_s2['longitude'],\n",
    "    lat=df_s2['latitude'],\n",
    "    mode='markers',\n",
    "    marker_color=df_s2['idx'],\n",
    "    text=df_s2['idx'],\n",
    "    marker=dict(\n",
    "        size=5,\n",
    "        opacity=0.4,\n",
    "        colorscale='spectral'\n",
    "    )\n",
    "))\n",
    "\n",
    "fig314.update_layout(\n",
    "    showlegend=False,\n",
    "    mapbox_style='carto-positron',\n",
    "    mapbox_zoom=11, \n",
    "    mapbox_center={'lat':df['latitude'].mean(), 'lon':df['longitude'].mean()},\n",
    "    margin={\"r\":0,\"t\":0,\"l\":0,\"b\":0}\n",
    ")\n",
    "\n",
    "fig314.show()"
   ]
  },
  {
   "cell_type": "markdown",
   "metadata": {},
   "source": [
    "### Regiones Voronoi"
   ]
  },
  {
   "cell_type": "code",
   "execution_count": null,
   "metadata": {},
   "outputs": [],
   "source": [
    "poi_coords = list(map(lambda x: x['coord'], pois))\n",
    "vor = spatial.Voronoi(poi_coords)\n",
    "\n",
    "def get_voronoi_index(row):\n",
    "    new_point = [row['latitude'], row['longitude']]\n",
    "    point_index = np.argmin(np.sum((vor.points - new_point)**2, axis=1))\n",
    "    return 'v_' + str(point_index)\n",
    "\n",
    "df['voronoi'] = df.apply(lambda r: get_voronoi_index(r), axis=1)\n",
    "spatial.voronoi_plot_2d(vor)"
   ]
  },
  {
   "cell_type": "code",
   "execution_count": null,
   "metadata": {},
   "outputs": [],
   "source": [
    "df_voronoi = df[['voronoi', 'latitude', 'longitude']]\n",
    "voronoi_cells = sorted(df_voronoi['voronoi'].unique())\n",
    "df_voronoi['idx'] = df_voronoi['voronoi'].apply(lambda x: voronoi_cells.index(x))"
   ]
  },
  {
   "cell_type": "code",
   "execution_count": null,
   "metadata": {},
   "outputs": [],
   "source": [
    "fig315 = go.Figure()\n",
    "\n",
    "fig315.add_trace(go.Scattermapbox(\n",
    "    lon=df_voronoi['longitude'],\n",
    "    lat=df_voronoi['latitude'],\n",
    "    mode='markers',\n",
    "    marker_color=df_voronoi['idx'],\n",
    "    text=df_voronoi['idx'],\n",
    "    marker=dict(\n",
    "        size=5,\n",
    "        opacity=0.4,\n",
    "        colorscale='spectral'\n",
    "    )\n",
    "))\n",
    "\n",
    "fig315.add_trace(\n",
    "    go.Scattermapbox(\n",
    "        lat=list(map(lambda x: x['coord'][0], pois)),\n",
    "        lon=list(map(lambda x: x['coord'][1], pois)),\n",
    "        text=list(map(lambda x: x['name'], pois)),\n",
    "        mode='markers',\n",
    "        marker=dict(\n",
    "            size=8,\n",
    "            opacity=0.9,\n",
    "            color='black'\n",
    "        )\n",
    "    )\n",
    ")\n",
    "\n",
    "fig315.update_layout(\n",
    "    showlegend=False,\n",
    "    mapbox_style='carto-positron',\n",
    "    mapbox_zoom=11, \n",
    "    mapbox_center={'lat':df['latitude'].mean(), 'lon':df['longitude'].mean()},\n",
    "    margin={\"r\":0,\"t\":0,\"l\":0,\"b\":0}\n",
    ")\n",
    "\n",
    "fig315.show()"
   ]
  },
  {
   "cell_type": "markdown",
   "metadata": {},
   "source": [
    "## Conversión de características categóricas en _dummies_"
   ]
  },
  {
   "cell_type": "code",
   "execution_count": null,
   "metadata": {},
   "outputs": [],
   "source": [
    "print(df.shape)\n",
    "dfd = pd.get_dummies(df)\n",
    "print(dfd.shape)\n",
    "\n",
    "target = 'price'\n",
    "features = list(dfd.columns)\n",
    "features.remove(target)"
   ]
  },
  {
   "cell_type": "markdown",
   "metadata": {},
   "source": [
    "## Partición en conjuntos de entrenamiento y test"
   ]
  },
  {
   "cell_type": "code",
   "execution_count": null,
   "metadata": {
    "scrolled": true
   },
   "outputs": [],
   "source": [
    "x_train, x_test, y_train, y_test = train_test_split(\n",
    "    dfd[features], \n",
    "    dfd[target],\n",
    "    test_size=0.3,\n",
    "    random_state=42\n",
    ")\n",
    "\n",
    "x_train = x_train.astype(float) # prevent conversion warnings"
   ]
  },
  {
   "cell_type": "markdown",
   "metadata": {},
   "source": [
    "## Modelo base: CatBoost"
   ]
  },
  {
   "cell_type": "code",
   "execution_count": null,
   "metadata": {},
   "outputs": [],
   "source": [
    "def eval_model(method, cols, df):\n",
    "    model = cb.CatBoostRegressor(\n",
    "        verbose=0, \n",
    "        random_seed=42, \n",
    "        depth=10, \n",
    "        iterations=150, \n",
    "        learning_rate=0.1\n",
    "    )\n",
    "    \n",
    "    regressor = Pipeline([('model', model)])\n",
    "    regressor.fit(x_train[cols], y_train)\n",
    "    y_pred = regressor.predict(x_test[cols])\n",
    "    r2 = r2_score(y_test, y_pred)\n",
    "    mae = mean_absolute_error(y_test, y_pred)\n",
    "    mse = mean_squared_error(y_test, y_pred)\n",
    "    \n",
    "    collect_results(cols, model, method, r2, mae, mse, skip_coef=True)\n",
    "    importances = regressor.named_steps['model'].feature_importances_\n",
    "    print_feature_importances(method, importances, df[cols])\n",
    "    return y_pred"
   ]
  },
  {
   "cell_type": "markdown",
   "metadata": {},
   "source": [
    "## Estudio de la localización"
   ]
  },
  {
   "cell_type": "code",
   "execution_count": null,
   "metadata": {},
   "outputs": [],
   "source": [
    "neighbourhood_cols = [col for col in dfd if col.startswith('neighbourhood')]\n",
    "dist_cols = [col for col in dfd if col.startswith('dist_')]\n",
    "coord_cols = ['latitude', 'longitude']\n",
    "nb_cluster_cols = [col for col in dfd if col.startswith('nb_cluster_')]\n",
    "s2_cols = [col for col in dfd if col.startswith('s2_')]\n",
    "voronoi_cols = [col for col in dfd if col.startswith('voronoi')]"
   ]
  },
  {
   "cell_type": "markdown",
   "metadata": {},
   "source": [
    "### Modelo sin variable geográfica\n",
    "\n",
    "Este modelo registraría toda la variabilidad de precio que es debida a las propiedades de las viviendas sin considerar caractarísticas geográficas de ningún tipo."
   ]
  },
  {
   "cell_type": "code",
   "execution_count": null,
   "metadata": {
    "scrolled": false
   },
   "outputs": [],
   "source": [
    "cols = features.copy()\n",
    "for c in [*neighbourhood_cols, *dist_cols, *coord_cols, *nb_cluster_cols, *s2_cols, *voronoi_cols]:\n",
    "    if c in cols:\n",
    "        cols.remove(c)\n",
    "    \n",
    "y_pred = eval_model('NO-GEO', cols, dfd)"
   ]
  },
  {
   "cell_type": "markdown",
   "metadata": {},
   "source": [
    "#### Residuos\n",
    "\n",
    "Se busca si existen zonas con un error positivo o negativo.\n",
    "- Lo que se puede asociar con puntos de interés: positivo\n",
    "- Zonas que los visitantes prefieren evitar: negativo"
   ]
  },
  {
   "cell_type": "code",
   "execution_count": null,
   "metadata": {},
   "outputs": [],
   "source": [
    "x_test['resid'] = y_test - y_pred\n",
    "plt.hist(x_test['resid'], bins=50)\n",
    "plt.show()"
   ]
  },
  {
   "cell_type": "markdown",
   "metadata": {},
   "source": [
    "#### Residuos outliers"
   ]
  },
  {
   "cell_type": "code",
   "execution_count": null,
   "metadata": {},
   "outputs": [],
   "source": [
    "x_test2 = x_test.copy()\n",
    "x_test2.reset_index(inplace=True)\n",
    "outliers_idx = get_outliers_iqr(x_test2['resid'])[0]\n",
    "remove_outliers(x_test2, outliers_idx, 'resid')"
   ]
  },
  {
   "cell_type": "code",
   "execution_count": null,
   "metadata": {},
   "outputs": [],
   "source": [
    "plt.hist(x_test2['resid'], bins=30)\n",
    "plt.show()"
   ]
  },
  {
   "cell_type": "code",
   "execution_count": null,
   "metadata": {},
   "outputs": [],
   "source": [
    "fig1 = go.Figure(\n",
    "    go.Scattermapbox(\n",
    "        lon=x_test2['longitude'],\n",
    "        lat=x_test2['latitude'],\n",
    "        mode='markers',\n",
    "        marker_color=x_test2['resid'],\n",
    "        text=x_test2['resid'],\n",
    "        marker=dict(\n",
    "            opacity=0.8,\n",
    "            colorscale=[\n",
    "                [0.0, \"rgb(165,0,38)\"],\n",
    "                [0.11, \"rgb(215,48,39)\"],\n",
    "                [0.22, \"rgb(244,109,67)\"],\n",
    "                [0.33, \"rgb(253,174,97)\"],\n",
    "                [0.44, \"rgb(254,224,144)\"],\n",
    "                [0.55, \"rgb(224,243,248)\"],\n",
    "                [0.66, \"rgb(171,217,233)\"],\n",
    "                [0.77, \"rgb(116,173,209)\"],\n",
    "                [0.88, \"rgb(69,117,180)\"],\n",
    "                [1.0, \"rgb(49,54,149)\"]\n",
    "            ]\n",
    "        )\n",
    "    )\n",
    ")\n",
    "\n",
    "fig1.update_layout(\n",
    "    mapbox_style='carto-positron',\n",
    "    mapbox_zoom=11, \n",
    "    mapbox_center={'lat':x_test2['latitude'].mean(), 'lon':x_test2['longitude'].mean()},\n",
    "    margin={\"r\":0,\"t\":0,\"l\":0,\"b\":0}\n",
    ")\n",
    "\n",
    "fig1.show()"
   ]
  },
  {
   "cell_type": "markdown",
   "metadata": {},
   "source": [
    "### Coordenadas"
   ]
  },
  {
   "cell_type": "code",
   "execution_count": null,
   "metadata": {
    "scrolled": false
   },
   "outputs": [],
   "source": [
    "cols = features.copy()\n",
    "for c in [*neighbourhood_cols, *dist_cols, *nb_cluster_cols, *s2_cols, *voronoi_cols]:\n",
    "    if c in cols:\n",
    "        cols.remove(c)\n",
    "    \n",
    "y_pred = eval_model('COORD', cols, dfd)"
   ]
  },
  {
   "cell_type": "markdown",
   "metadata": {},
   "source": [
    "### Barrios"
   ]
  },
  {
   "cell_type": "code",
   "execution_count": null,
   "metadata": {
    "scrolled": false
   },
   "outputs": [],
   "source": [
    "cols = features.copy()\n",
    "for c in [*dist_cols, *coord_cols, *nb_cluster_cols, *s2_cols, *voronoi_cols]:\n",
    "    if c in cols:\n",
    "        cols.remove(c)\n",
    "    \n",
    "y_pred = eval_model('NB', cols, dfd)"
   ]
  },
  {
   "cell_type": "markdown",
   "metadata": {},
   "source": [
    "### Cluster de barrios"
   ]
  },
  {
   "cell_type": "code",
   "execution_count": null,
   "metadata": {
    "scrolled": false
   },
   "outputs": [],
   "source": [
    "cols = features.copy()\n",
    "for c in [*neighbourhood_cols, *dist_cols, *coord_cols, *s2_cols, *voronoi_cols]:\n",
    "    if c in cols:\n",
    "        cols.remove(c)\n",
    "    \n",
    "y_pred = eval_model('CLUSTER-NB', cols, dfd)"
   ]
  },
  {
   "cell_type": "markdown",
   "metadata": {},
   "source": [
    "### Distancias a puntos de interés"
   ]
  },
  {
   "cell_type": "code",
   "execution_count": null,
   "metadata": {},
   "outputs": [],
   "source": [
    "cols = features.copy()\n",
    "for c in [*neighbourhood_cols, *coord_cols, *nb_cluster_cols, *s2_cols, *voronoi_cols]:\n",
    "    if c in cols:\n",
    "        cols.remove(c)\n",
    "    \n",
    "y_pred = eval_model('DIST', cols, dfd)"
   ]
  },
  {
   "cell_type": "markdown",
   "metadata": {},
   "source": [
    "### Voronoi"
   ]
  },
  {
   "cell_type": "code",
   "execution_count": null,
   "metadata": {},
   "outputs": [],
   "source": [
    "cols = features.copy()\n",
    "for c in [*neighbourhood_cols, *nb_cluster_cols, *coord_cols, *dist_cols, *s2_cols]:\n",
    "    if c in cols:\n",
    "        cols.remove(c)\n",
    "    \n",
    "y_pred = eval_model('VORONOI', cols, dfd)"
   ]
  },
  {
   "cell_type": "markdown",
   "metadata": {},
   "source": [
    "### S2"
   ]
  },
  {
   "cell_type": "code",
   "execution_count": null,
   "metadata": {
    "scrolled": false
   },
   "outputs": [],
   "source": [
    "cols = features.copy()\n",
    "for c in [*neighbourhood_cols, *nb_cluster_cols, *coord_cols, *dist_cols, *voronoi_cols]:\n",
    "    if c in cols:\n",
    "        cols.remove(c)\n",
    "    \n",
    "y_pred = eval_model('S2', cols, dfd)"
   ]
  },
  {
   "cell_type": "markdown",
   "metadata": {},
   "source": [
    "### Automated feature engineering"
   ]
  },
  {
   "cell_type": "code",
   "execution_count": null,
   "metadata": {},
   "outputs": [],
   "source": [
    "auto_df = df.copy()\n",
    "auto_df['auto_id'] = auto_df['price'].apply(lambda x: uuid.uuid1().int)\n",
    "prices = auto_df['price']\n",
    "auto_df.drop(['price'], axis=1, inplace=True, errors='ignore')"
   ]
  },
  {
   "cell_type": "code",
   "execution_count": null,
   "metadata": {},
   "outputs": [],
   "source": [
    "es = ft.EntitySet(id='airbnb')\n",
    "es = es.entity_from_dataframe(\n",
    "    entity_id='main',\n",
    "    dataframe=auto_df,\n",
    "    index='auto_id'\n",
    ")"
   ]
  },
  {
   "cell_type": "code",
   "execution_count": null,
   "metadata": {
    "scrolled": false
   },
   "outputs": [],
   "source": [
    "# available_transform_primitives = ft.primitives.list_primitives()\n",
    "# print(available_transform_primitives[available_transform_primitives['type'] == 'transform'])\n",
    "\n",
    "features_df, feature_names = ft.dfs(\n",
    "    entityset=es,\n",
    "    target_entity='main',\n",
    "    trans_primitives=['subtract_numeric'],\n",
    "    max_depth=2\n",
    ")\n",
    "\n",
    "# print(features_df.columns)"
   ]
  },
  {
   "cell_type": "code",
   "execution_count": null,
   "metadata": {},
   "outputs": [],
   "source": [
    "auto_df = features_df.copy()\n",
    "auto_df.reset_index()\n",
    "auto_df.drop(['auto_id'], axis=1, inplace=True, errors='ignore')\n",
    "\n",
    "auto_df = pd.get_dummies(auto_df)\n",
    "print(auto_df.shape)\n",
    "\n",
    "auto_features = list(auto_df.columns)\n",
    "\n",
    "x_train, x_test, y_train, y_test = train_test_split(\n",
    "    auto_df, \n",
    "    prices,\n",
    "    random_state=42\n",
    ")\n",
    "\n",
    "x_train = x_train.astype(float) # prevent conversion warnings"
   ]
  },
  {
   "cell_type": "code",
   "execution_count": null,
   "metadata": {
    "scrolled": false
   },
   "outputs": [],
   "source": [
    "y_pred = eval_model('AUTO-FT', auto_features, auto_df)"
   ]
  }
 ],
 "metadata": {
  "kernelspec": {
   "display_name": "Python 3",
   "language": "python",
   "name": "python3"
  },
  "language_info": {
   "codemirror_mode": {
    "name": "ipython",
    "version": 3
   },
   "file_extension": ".py",
   "mimetype": "text/x-python",
   "name": "python",
   "nbconvert_exporter": "python",
   "pygments_lexer": "ipython3",
   "version": "3.6.3"
  },
  "toc": {
   "base_numbering": 1,
   "nav_menu": {},
   "number_sections": true,
   "sideBar": true,
   "skip_h1_title": true,
   "title_cell": "Contenidos",
   "title_sidebar": "Contenidos",
   "toc_cell": true,
   "toc_position": {},
   "toc_section_display": true,
   "toc_window_display": false
  }
 },
 "nbformat": 4,
 "nbformat_minor": 2
}
